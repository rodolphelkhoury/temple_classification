{
  "nbformat": 4,
  "nbformat_minor": 0,
  "metadata": {
    "colab": {
      "provenance": []
    },
    "kernelspec": {
      "name": "python3",
      "display_name": "Python 3"
    },
    "language_info": {
      "name": "python"
    },
    "widgets": {
      "application/vnd.jupyter.widget-state+json": {
        "4a2d80772758412493e0c62b2369a3a3": {
          "model_module": "@jupyter-widgets/controls",
          "model_name": "HBoxModel",
          "model_module_version": "1.5.0",
          "state": {
            "_dom_classes": [],
            "_model_module": "@jupyter-widgets/controls",
            "_model_module_version": "1.5.0",
            "_model_name": "HBoxModel",
            "_view_count": null,
            "_view_module": "@jupyter-widgets/controls",
            "_view_module_version": "1.5.0",
            "_view_name": "HBoxView",
            "box_style": "",
            "children": [
              "IPY_MODEL_18c2c8ca2f294ca8be825792e5882432",
              "IPY_MODEL_0a3f4ba86f664de8b8a8202fb05bb939",
              "IPY_MODEL_7cac5670856645dd800ef3968ec4cc14"
            ],
            "layout": "IPY_MODEL_cbd31592b66040578e20d833f7b7fd66"
          }
        },
        "18c2c8ca2f294ca8be825792e5882432": {
          "model_module": "@jupyter-widgets/controls",
          "model_name": "HTMLModel",
          "model_module_version": "1.5.0",
          "state": {
            "_dom_classes": [],
            "_model_module": "@jupyter-widgets/controls",
            "_model_module_version": "1.5.0",
            "_model_name": "HTMLModel",
            "_view_count": null,
            "_view_module": "@jupyter-widgets/controls",
            "_view_module_version": "1.5.0",
            "_view_name": "HTMLView",
            "description": "",
            "description_tooltip": null,
            "layout": "IPY_MODEL_57895b2d4b974f929766d38611f823f3",
            "placeholder": "​",
            "style": "IPY_MODEL_8acd1ad7972e445faf5d6d444f15a9b0",
            "value": "model.safetensors: 100%"
          }
        },
        "0a3f4ba86f664de8b8a8202fb05bb939": {
          "model_module": "@jupyter-widgets/controls",
          "model_name": "FloatProgressModel",
          "model_module_version": "1.5.0",
          "state": {
            "_dom_classes": [],
            "_model_module": "@jupyter-widgets/controls",
            "_model_module_version": "1.5.0",
            "_model_name": "FloatProgressModel",
            "_view_count": null,
            "_view_module": "@jupyter-widgets/controls",
            "_view_module_version": "1.5.0",
            "_view_name": "ProgressView",
            "bar_style": "success",
            "description": "",
            "description_tooltip": null,
            "layout": "IPY_MODEL_187710614040439889ad63def8db9694",
            "max": 21355344,
            "min": 0,
            "orientation": "horizontal",
            "style": "IPY_MODEL_2ef6ecbd92e048a9bb9356f0d4174afd",
            "value": 21355344
          }
        },
        "7cac5670856645dd800ef3968ec4cc14": {
          "model_module": "@jupyter-widgets/controls",
          "model_name": "HTMLModel",
          "model_module_version": "1.5.0",
          "state": {
            "_dom_classes": [],
            "_model_module": "@jupyter-widgets/controls",
            "_model_module_version": "1.5.0",
            "_model_name": "HTMLModel",
            "_view_count": null,
            "_view_module": "@jupyter-widgets/controls",
            "_view_module_version": "1.5.0",
            "_view_name": "HTMLView",
            "description": "",
            "description_tooltip": null,
            "layout": "IPY_MODEL_ff6551a1556a473386788d9798651c13",
            "placeholder": "​",
            "style": "IPY_MODEL_e66558a5ec1f49edb71fbdb01078fedd",
            "value": " 21.4M/21.4M [00:00&lt;00:00, 59.8MB/s]"
          }
        },
        "cbd31592b66040578e20d833f7b7fd66": {
          "model_module": "@jupyter-widgets/base",
          "model_name": "LayoutModel",
          "model_module_version": "1.2.0",
          "state": {
            "_model_module": "@jupyter-widgets/base",
            "_model_module_version": "1.2.0",
            "_model_name": "LayoutModel",
            "_view_count": null,
            "_view_module": "@jupyter-widgets/base",
            "_view_module_version": "1.2.0",
            "_view_name": "LayoutView",
            "align_content": null,
            "align_items": null,
            "align_self": null,
            "border": null,
            "bottom": null,
            "display": null,
            "flex": null,
            "flex_flow": null,
            "grid_area": null,
            "grid_auto_columns": null,
            "grid_auto_flow": null,
            "grid_auto_rows": null,
            "grid_column": null,
            "grid_gap": null,
            "grid_row": null,
            "grid_template_areas": null,
            "grid_template_columns": null,
            "grid_template_rows": null,
            "height": null,
            "justify_content": null,
            "justify_items": null,
            "left": null,
            "margin": null,
            "max_height": null,
            "max_width": null,
            "min_height": null,
            "min_width": null,
            "object_fit": null,
            "object_position": null,
            "order": null,
            "overflow": null,
            "overflow_x": null,
            "overflow_y": null,
            "padding": null,
            "right": null,
            "top": null,
            "visibility": null,
            "width": null
          }
        },
        "57895b2d4b974f929766d38611f823f3": {
          "model_module": "@jupyter-widgets/base",
          "model_name": "LayoutModel",
          "model_module_version": "1.2.0",
          "state": {
            "_model_module": "@jupyter-widgets/base",
            "_model_module_version": "1.2.0",
            "_model_name": "LayoutModel",
            "_view_count": null,
            "_view_module": "@jupyter-widgets/base",
            "_view_module_version": "1.2.0",
            "_view_name": "LayoutView",
            "align_content": null,
            "align_items": null,
            "align_self": null,
            "border": null,
            "bottom": null,
            "display": null,
            "flex": null,
            "flex_flow": null,
            "grid_area": null,
            "grid_auto_columns": null,
            "grid_auto_flow": null,
            "grid_auto_rows": null,
            "grid_column": null,
            "grid_gap": null,
            "grid_row": null,
            "grid_template_areas": null,
            "grid_template_columns": null,
            "grid_template_rows": null,
            "height": null,
            "justify_content": null,
            "justify_items": null,
            "left": null,
            "margin": null,
            "max_height": null,
            "max_width": null,
            "min_height": null,
            "min_width": null,
            "object_fit": null,
            "object_position": null,
            "order": null,
            "overflow": null,
            "overflow_x": null,
            "overflow_y": null,
            "padding": null,
            "right": null,
            "top": null,
            "visibility": null,
            "width": null
          }
        },
        "8acd1ad7972e445faf5d6d444f15a9b0": {
          "model_module": "@jupyter-widgets/controls",
          "model_name": "DescriptionStyleModel",
          "model_module_version": "1.5.0",
          "state": {
            "_model_module": "@jupyter-widgets/controls",
            "_model_module_version": "1.5.0",
            "_model_name": "DescriptionStyleModel",
            "_view_count": null,
            "_view_module": "@jupyter-widgets/base",
            "_view_module_version": "1.2.0",
            "_view_name": "StyleView",
            "description_width": ""
          }
        },
        "187710614040439889ad63def8db9694": {
          "model_module": "@jupyter-widgets/base",
          "model_name": "LayoutModel",
          "model_module_version": "1.2.0",
          "state": {
            "_model_module": "@jupyter-widgets/base",
            "_model_module_version": "1.2.0",
            "_model_name": "LayoutModel",
            "_view_count": null,
            "_view_module": "@jupyter-widgets/base",
            "_view_module_version": "1.2.0",
            "_view_name": "LayoutView",
            "align_content": null,
            "align_items": null,
            "align_self": null,
            "border": null,
            "bottom": null,
            "display": null,
            "flex": null,
            "flex_flow": null,
            "grid_area": null,
            "grid_auto_columns": null,
            "grid_auto_flow": null,
            "grid_auto_rows": null,
            "grid_column": null,
            "grid_gap": null,
            "grid_row": null,
            "grid_template_areas": null,
            "grid_template_columns": null,
            "grid_template_rows": null,
            "height": null,
            "justify_content": null,
            "justify_items": null,
            "left": null,
            "margin": null,
            "max_height": null,
            "max_width": null,
            "min_height": null,
            "min_width": null,
            "object_fit": null,
            "object_position": null,
            "order": null,
            "overflow": null,
            "overflow_x": null,
            "overflow_y": null,
            "padding": null,
            "right": null,
            "top": null,
            "visibility": null,
            "width": null
          }
        },
        "2ef6ecbd92e048a9bb9356f0d4174afd": {
          "model_module": "@jupyter-widgets/controls",
          "model_name": "ProgressStyleModel",
          "model_module_version": "1.5.0",
          "state": {
            "_model_module": "@jupyter-widgets/controls",
            "_model_module_version": "1.5.0",
            "_model_name": "ProgressStyleModel",
            "_view_count": null,
            "_view_module": "@jupyter-widgets/base",
            "_view_module_version": "1.2.0",
            "_view_name": "StyleView",
            "bar_color": null,
            "description_width": ""
          }
        },
        "ff6551a1556a473386788d9798651c13": {
          "model_module": "@jupyter-widgets/base",
          "model_name": "LayoutModel",
          "model_module_version": "1.2.0",
          "state": {
            "_model_module": "@jupyter-widgets/base",
            "_model_module_version": "1.2.0",
            "_model_name": "LayoutModel",
            "_view_count": null,
            "_view_module": "@jupyter-widgets/base",
            "_view_module_version": "1.2.0",
            "_view_name": "LayoutView",
            "align_content": null,
            "align_items": null,
            "align_self": null,
            "border": null,
            "bottom": null,
            "display": null,
            "flex": null,
            "flex_flow": null,
            "grid_area": null,
            "grid_auto_columns": null,
            "grid_auto_flow": null,
            "grid_auto_rows": null,
            "grid_column": null,
            "grid_gap": null,
            "grid_row": null,
            "grid_template_areas": null,
            "grid_template_columns": null,
            "grid_template_rows": null,
            "height": null,
            "justify_content": null,
            "justify_items": null,
            "left": null,
            "margin": null,
            "max_height": null,
            "max_width": null,
            "min_height": null,
            "min_width": null,
            "object_fit": null,
            "object_position": null,
            "order": null,
            "overflow": null,
            "overflow_x": null,
            "overflow_y": null,
            "padding": null,
            "right": null,
            "top": null,
            "visibility": null,
            "width": null
          }
        },
        "e66558a5ec1f49edb71fbdb01078fedd": {
          "model_module": "@jupyter-widgets/controls",
          "model_name": "DescriptionStyleModel",
          "model_module_version": "1.5.0",
          "state": {
            "_model_module": "@jupyter-widgets/controls",
            "_model_module_version": "1.5.0",
            "_model_name": "DescriptionStyleModel",
            "_view_count": null,
            "_view_module": "@jupyter-widgets/base",
            "_view_module_version": "1.2.0",
            "_view_name": "StyleView",
            "description_width": ""
          }
        }
      }
    }
  },
  "cells": [
    {
      "cell_type": "code",
      "execution_count": 3,
      "metadata": {
        "id": "QBedysCmFP0A"
      },
      "outputs": [],
      "source": [
        "import os\n",
        "import random\n",
        "import numpy as np\n",
        "import pandas as pd\n",
        "from pathlib import Path\n",
        "import matplotlib.pyplot as plt\n",
        "import seaborn as sns\n",
        "from sklearn.metrics import confusion_matrix, balanced_accuracy_score\n",
        "\n",
        "import torch\n",
        "import torch.nn as nn\n",
        "import torch.optim as optim\n",
        "import torch.nn.functional as F\n",
        "from torch.utils.data import DataLoader, Dataset, WeightedRandomSampler\n",
        "from torchvision import models, transforms\n",
        "from torchvision.datasets import ImageFolder\n",
        "from torchvision.transforms import functional as TF\n",
        "from torch.optim.lr_scheduler import CosineAnnealingLR\n",
        "from PIL import Image\n",
        "\n",
        "# For TResNet-M or EfficientNet\n",
        "import timm"
      ]
    },
    {
      "cell_type": "code",
      "source": [
        "# For Google Colab\n",
        "from google.colab import drive\n",
        "drive.mount('/content/drive')"
      ],
      "metadata": {
        "colab": {
          "base_uri": "https://localhost:8080/"
        },
        "id": "Up11z7XjFh37",
        "outputId": "b3ec4d1b-ec83-415e-aab3-2d9ed66cb42a"
      },
      "execution_count": 4,
      "outputs": [
        {
          "output_type": "stream",
          "name": "stdout",
          "text": [
            "Drive already mounted at /content/drive; to attempt to forcibly remount, call drive.mount(\"/content/drive\", force_remount=True).\n"
          ]
        }
      ]
    },
    {
      "cell_type": "code",
      "source": [
        "# Set random seeds for reproducibility\n",
        "random.seed(42)\n",
        "np.random.seed(42)\n",
        "torch.manual_seed(42)\n",
        "torch.cuda.manual_seed_all(42)\n",
        "\n",
        "# Check for GPU\n",
        "device = torch.device(\"cuda\" if torch.cuda.is_available() else \"cpu\")\n",
        "print(f\"Using device: {device}\")\n",
        "\n",
        "# Define paths\n",
        "base_dir = '/content/drive/MyDrive/temple_classification'\n",
        "output_dir = '/content/drive/MyDrive/temple_classification_output'\n",
        "\n",
        "os.makedirs(output_dir, exist_ok=True)\n",
        "\n",
        "# Define classes\n",
        "church_styles = ['church_romanesque', 'church_modern', 'church_gothic', 'church_byzantine', 'church_baroque']\n",
        "mosque_styles = ['mosque_turkish', 'mosque_persian', 'mosque_arabic']\n",
        "all_classes = church_styles + mosque_styles\n",
        "\n",
        "# Assuming you've already split your data into these directories\n",
        "train_dir = os.path.join(base_dir, 'train')\n",
        "val_dir = os.path.join(base_dir, 'validation')\n",
        "test_dir = os.path.join(base_dir, 'test')"
      ],
      "metadata": {
        "colab": {
          "base_uri": "https://localhost:8080/"
        },
        "id": "z7weJsgoGLOe",
        "outputId": "e736f300-bbf8-41ff-d095-24b59d170380"
      },
      "execution_count": 8,
      "outputs": [
        {
          "output_type": "stream",
          "name": "stdout",
          "text": [
            "Using device: cpu\n"
          ]
        }
      ]
    },
    {
      "cell_type": "code",
      "source": [
        "# 2. Custom transforms for data augmentation\n",
        "class RandomResizedCrop(transforms.RandomResizedCrop):\n",
        "    \"\"\"Custom RandomResizedCrop to match the paper's specifications\"\"\"\n",
        "    def __init__(self, size, scale=(0.4, 1.0), ratio=(3/4, 4/3)):\n",
        "        super().__init__(size=size, scale=scale, ratio=ratio)\n",
        "\n",
        "# OPTIMIZATION: Reduced image sizes from 224 to 160 for faster processing\n",
        "train_transform = transforms.Compose([\n",
        "    RandomResizedCrop(size=160, scale=(0.4, 1.0), ratio=(3/4, 4/3)),\n",
        "    transforms.RandomHorizontalFlip(),\n",
        "    transforms.ToTensor(),\n",
        "    transforms.Normalize(mean=[0.485, 0.456, 0.406], std=[0.229, 0.224, 0.225])\n",
        "])\n",
        "\n",
        "val_transform = transforms.Compose([\n",
        "    transforms.Resize(192),\n",
        "    transforms.CenterCrop(160),\n",
        "    transforms.ToTensor(),\n",
        "    transforms.Normalize(mean=[0.485, 0.456, 0.406], std=[0.229, 0.224, 0.225])\n",
        "])\n",
        "\n",
        "# High resolution transform reduced from 384 to 224\n",
        "train_transform_high_res = transforms.Compose([\n",
        "    RandomResizedCrop(size=224, scale=(0.4, 1.0), ratio=(3/4, 4/3)),\n",
        "    transforms.RandomHorizontalFlip(),\n",
        "    transforms.ToTensor(),\n",
        "    transforms.Normalize(mean=[0.485, 0.456, 0.406], std=[0.229, 0.224, 0.225])\n",
        "])\n",
        "\n",
        "val_transform_high_res = transforms.Compose([\n",
        "    transforms.Resize(256),\n",
        "    transforms.CenterCrop(224),\n",
        "    transforms.ToTensor(),\n",
        "    transforms.Normalize(mean=[0.485, 0.456, 0.406], std=[0.229, 0.224, 0.225])\n",
        "])\n"
      ],
      "metadata": {
        "id": "2YTk4C-4Gi9X"
      },
      "execution_count": 9,
      "outputs": []
    },
    {
      "cell_type": "code",
      "source": [
        "from collections import Counter\n",
        "\n",
        "print(\"Loading datasets...\")\n",
        "train_dataset = ImageFolder(root=train_dir, transform=train_transform)\n",
        "val_dataset = ImageFolder(root=val_dir, transform=val_transform)\n",
        "test_dataset = ImageFolder(root=test_dir, transform=val_transform)\n",
        "\n",
        "print(f\"Number of training samples: {len(train_dataset)}\")\n",
        "print(f\"Number of validation samples: {len(val_dataset)}\")\n",
        "print(f\"Number of test samples: {len(test_dataset)}\")\n",
        "\n",
        "# Get class counts for balanced sampling\n",
        "print(\"Calculating class counts...\")\n",
        "class_counts = [0] * len(all_classes)\n",
        "for _, label in train_dataset.samples:\n",
        "    class_counts[label] += 1\n",
        "print(f\"Class counts: {class_counts}\")\n",
        "print(f\"Class names: {train_dataset.classes}\")\n",
        "\n",
        "# Calculate weights for balanced sampling\n",
        "print(\"Calculating sample weights...\")\n",
        "class_weights = [1.0 / count if count > 0 else 0.0 for count in class_counts]\n",
        "sample_weights = [class_weights[label] for _, label in train_dataset.samples]\n",
        "print(f\"Sample weights (first 10): {sample_weights[:10]}\")\n",
        "\n",
        "sampler = WeightedRandomSampler(weights=sample_weights, num_samples=len(train_dataset), replacement=True)\n",
        "print(\"Sampler created.\")\n",
        "\n",
        "# Set batch size and create data loaders\n",
        "batch_size = 64\n",
        "print(f\"Using batch size: {batch_size}\")\n",
        "train_loader = DataLoader(train_dataset, batch_size=batch_size, shuffle=True, num_workers=2, pin_memory=True)\n",
        "balanced_train_loader = DataLoader(train_dataset, batch_size=batch_size, sampler=sampler, num_workers=2, pin_memory=True)\n",
        "val_loader = DataLoader(val_dataset, batch_size=batch_size, shuffle=False, num_workers=2, pin_memory=True)\n",
        "test_loader = DataLoader(test_dataset, batch_size=batch_size, shuffle=False, num_workers=2, pin_memory=True)\n",
        "\n",
        "print(\"DataLoaders created successfully.\")\n"
      ],
      "metadata": {
        "colab": {
          "base_uri": "https://localhost:8080/"
        },
        "id": "Wk7_InJrGoAG",
        "outputId": "02d54f5d-bb32-4dbf-9305-14428951420e"
      },
      "execution_count": 11,
      "outputs": [
        {
          "output_type": "stream",
          "name": "stdout",
          "text": [
            "Loading datasets...\n",
            "Number of training samples: 3489\n",
            "Number of validation samples: 955\n",
            "Number of test samples: 1191\n",
            "Calculating class counts...\n",
            "Class counts: [696, 90, 788, 325, 620, 283, 283, 404]\n",
            "Class names: ['church_baroque', 'church_byzantine', 'church_gothic', 'church_modern', 'church_romanesque', 'mosque_arabic', 'mosque_persian', 'mosque_turkish']\n",
            "Calculating sample weights...\n",
            "Sample weights (first 10): [0.0014367816091954023, 0.0014367816091954023, 0.0014367816091954023, 0.0014367816091954023, 0.0014367816091954023, 0.0014367816091954023, 0.0014367816091954023, 0.0014367816091954023, 0.0014367816091954023, 0.0014367816091954023]\n",
            "Sampler created.\n",
            "Using batch size: 64\n",
            "DataLoaders created successfully.\n"
          ]
        }
      ]
    },
    {
      "cell_type": "code",
      "source": [
        "def combine_datasets(train_dir, val_dir, output_dir, transform):\n",
        "    print(\"Loading training and validation datasets...\")\n",
        "    train_dataset = ImageFolder(root=train_dir, transform=transform)\n",
        "    val_dataset = ImageFolder(root=val_dir, transform=transform)\n",
        "    print(f\"Train dataset size: {len(train_dataset)}\")\n",
        "    print(f\"Validation dataset size: {len(val_dataset)}\")\n",
        "\n",
        "    # Combine datasets\n",
        "    print(\"Combining datasets...\")\n",
        "    combined_dataset = torch.utils.data.ConcatDataset([train_dataset, val_dataset])\n",
        "    print(f\"Combined dataset size: {len(combined_dataset)}\")\n",
        "\n",
        "    # Calculate weights for balanced sampling\n",
        "    print(\"Calculating class counts for combined dataset...\")\n",
        "    class_counts = [0] * len(all_classes)\n",
        "    for dataset in [train_dataset, val_dataset]:\n",
        "        for _, label in dataset.samples:\n",
        "            class_counts[label] += 1\n",
        "    print(f\"Combined class counts: {class_counts}\")\n",
        "\n",
        "    print(\"Calculating class weights...\")\n",
        "    class_weights = [1.0 / count if count > 0 else 0.0 for count in class_counts]\n",
        "    print(f\"Class weights: {class_weights}\")\n",
        "\n",
        "    # Create sample weights\n",
        "    print(\"Creating sample weights for combined dataset...\")\n",
        "    sample_weights = []\n",
        "    for dataset in [train_dataset, val_dataset]:\n",
        "        sample_weights.extend([class_weights[label] for _, label in dataset.samples])\n",
        "    print(f\"Sample weights (first 10): {sample_weights[:10]}\")\n",
        "\n",
        "    print(\"Creating samplers and dataloaders...\")\n",
        "    combined_sampler = WeightedRandomSampler(weights=sample_weights, num_samples=len(combined_dataset), replacement=True)\n",
        "\n",
        "    combined_loader = DataLoader(combined_dataset, batch_size=batch_size, shuffle=True, num_workers=2, pin_memory=True)\n",
        "    balanced_combined_loader = DataLoader(combined_dataset, batch_size=batch_size, sampler=combined_sampler, num_workers=2, pin_memory=True)\n",
        "\n",
        "    print(\"Combined DataLoaders created.\")\n",
        "\n",
        "    return combined_dataset, combined_loader, balanced_combined_loader"
      ],
      "metadata": {
        "id": "o1ZCWxWKHWeD"
      },
      "execution_count": 12,
      "outputs": []
    },
    {
      "cell_type": "code",
      "source": [
        "# 5. Define the training function - OPTIMIZED with early stopping\n",
        "def train_model(model, train_loader, val_loader, criterion, optimizer, scheduler, num_epochs=15, patience=3, device=device):\n",
        "    model.to(device)\n",
        "    best_val_acc = 0.0\n",
        "    history = {'train_loss': [], 'train_acc': [], 'val_loss': [], 'val_acc': []}\n",
        "\n",
        "    no_improve_epochs = 0\n",
        "    print(\"Starting training...\")\n",
        "\n",
        "    for epoch in range(num_epochs):\n",
        "        print(f\"\\nEpoch {epoch+1}/{num_epochs}\")\n",
        "        # Training phase\n",
        "        model.train()\n",
        "        running_loss = 0.0\n",
        "        correct = 0\n",
        "        total = 0\n",
        "\n",
        "        for i, (inputs, labels) in enumerate(train_loader):\n",
        "            inputs, labels = inputs.to(device), labels.to(device)\n",
        "\n",
        "            optimizer.zero_grad()\n",
        "            outputs = model(inputs)\n",
        "            loss = criterion(outputs, labels)\n",
        "            loss.backward()\n",
        "            optimizer.step()\n",
        "\n",
        "            running_loss += loss.item() * inputs.size(0)\n",
        "            _, predicted = torch.max(outputs, 1)\n",
        "            correct += (predicted == labels).sum().item()\n",
        "            total += labels.size(0)\n",
        "\n",
        "            if i % 10 == 0:\n",
        "                print(f\"  [Batch {i}] Loss: {loss.item():.4f}\")\n",
        "\n",
        "        epoch_loss = running_loss / len(train_loader.dataset)\n",
        "        epoch_acc = correct / total\n",
        "        history['train_loss'].append(epoch_loss)\n",
        "        history['train_acc'].append(epoch_acc)\n",
        "\n",
        "        print(f\"  Train Loss: {epoch_loss:.4f}, Train Acc: {epoch_acc:.4f}\")\n",
        "\n",
        "        # Validation phase\n",
        "        model.eval()\n",
        "        val_running_loss = 0.0\n",
        "        val_correct = 0\n",
        "        val_total = 0\n",
        "\n",
        "        with torch.no_grad():\n",
        "            for inputs, labels in val_loader:\n",
        "                inputs, labels = inputs.to(device), labels.to(device)\n",
        "                outputs = model(inputs)\n",
        "                loss = criterion(outputs, labels)\n",
        "\n",
        "                val_running_loss += loss.item() * inputs.size(0)\n",
        "                _, predicted = torch.max(outputs, 1)\n",
        "                val_correct += (predicted == labels).sum().item()\n",
        "                val_total += labels.size(0)\n",
        "\n",
        "        val_epoch_loss = val_running_loss / len(val_loader.dataset)\n",
        "        val_epoch_acc = val_correct / val_total\n",
        "        history['val_loss'].append(val_epoch_loss)\n",
        "        history['val_acc'].append(val_epoch_acc)\n",
        "\n",
        "        print(f\"  Val Loss: {val_epoch_loss:.4f}, Val Acc: {val_epoch_acc:.4f}\")\n",
        "\n",
        "        scheduler.step()\n",
        "\n",
        "        # Save best model and check for early stopping\n",
        "        if val_epoch_acc > best_val_acc:\n",
        "            print(\"  Improvement detected, saving model...\")\n",
        "            best_val_acc = val_epoch_acc\n",
        "            torch.save(model.state_dict(), os.path.join(output_dir, 'best_model.pth'))\n",
        "            no_improve_epochs = 0\n",
        "        else:\n",
        "            no_improve_epochs += 1\n",
        "            print(f\"  No improvement. ({no_improve_epochs}/{patience})\")\n",
        "\n",
        "        if no_improve_epochs >= patience:\n",
        "            print(\"Early stopping triggered.\")\n",
        "            break\n",
        "\n",
        "    return model, history\n",
        "\n",
        "\n",
        "# Function to evaluate model\n",
        "def evaluate_model(model, test_loader, criterion, device=device):\n",
        "    print(\"\\nEvaluating model on test set...\")\n",
        "    model.eval()\n",
        "    running_loss = 0.0\n",
        "    all_preds = []\n",
        "    all_labels = []\n",
        "\n",
        "    with torch.no_grad():\n",
        "        for i, (inputs, labels) in enumerate(test_loader):\n",
        "            inputs, labels = inputs.to(device), labels.to(device)\n",
        "            outputs = model(inputs)\n",
        "            loss = criterion(outputs, labels)\n",
        "\n",
        "            running_loss += loss.item() * inputs.size(0)\n",
        "            _, preds = torch.max(outputs, 1)\n",
        "\n",
        "            all_preds.extend(preds.cpu().numpy())\n",
        "            all_labels.extend(labels.cpu().numpy())\n",
        "\n",
        "            if i % 5 == 0:\n",
        "                print(f\"  Processed batch {i}\")\n",
        "\n",
        "    test_loss = running_loss / len(test_loader.dataset)\n",
        "    test_acc = sum(np.array(all_preds) == np.array(all_labels)) / len(all_labels)\n",
        "    balanced_acc = balanced_accuracy_score(all_labels, all_preds)\n",
        "\n",
        "    print(f\"\\nTest Results — Loss: {test_loss:.4f}, Acc: {test_acc:.4f}, Balanced Acc: {balanced_acc:.4f}\")\n",
        "\n",
        "    cm = confusion_matrix(all_labels, all_preds)\n",
        "    cm_normalized = cm.astype('float') / cm.sum(axis=1)[:, np.newaxis]\n",
        "\n",
        "    return test_loss, test_acc, balanced_acc, cm_normalized, all_preds, all_labels\n",
        "\n",
        "\n",
        "# Function to plot confusion matrix\n",
        "def plot_confusion_matrix(cm, class_names, title, output_path):\n",
        "    print(f\"Saving confusion matrix plot to: {output_path}\")\n",
        "    plt.figure(figsize=(10, 8))\n",
        "    sns.heatmap(cm, annot=True, fmt='.2f', cmap='Blues', xticklabels=class_names, yticklabels=class_names)\n",
        "    plt.xlabel('Predicted Label')\n",
        "    plt.ylabel('True Label')\n",
        "    plt.title(title)\n",
        "    plt.tight_layout()\n",
        "    plt.savefig(output_path)\n",
        "    plt.close()\n",
        "    print(\"Plot saved.\")\n"
      ],
      "metadata": {
        "id": "Nhaidh4-HnoH"
      },
      "execution_count": 14,
      "outputs": []
    },
    {
      "cell_type": "code",
      "source": [
        "# 6. Simplified hyperparameter tuning (OPTIMIZED with fixed parameters)\n",
        "# OPTIMIZATION: Skip hyperparameter tuning and use known good values to save time\n",
        "def get_best_params():\n",
        "    return {'lr': 0.01, 'weight_decay': 1e-4}\n",
        "\n",
        "# Get best parameters without lengthy tuning\n",
        "best_params = get_best_params()\n",
        "print(f\"Using parameters: LR={best_params['lr']}, Weight Decay={best_params['weight_decay']}\")"
      ],
      "metadata": {
        "colab": {
          "base_uri": "https://localhost:8080/"
        },
        "id": "_BWZ9-kvIDZk",
        "outputId": "8c7e2edd-4dac-4a9a-eee7-bb92b90f2bdb"
      },
      "execution_count": 15,
      "outputs": [
        {
          "output_type": "stream",
          "name": "stdout",
          "text": [
            "Using parameters: LR=0.01, Weight Decay=0.0001\n"
          ]
        }
      ]
    },
    {
      "cell_type": "code",
      "source": [
        "# 7. Implement EfficientNet-B0 model (OPTIMIZATION: smaller and faster than ResNet-50)\n",
        "def create_efficientnet_model(num_classes=len(all_classes)):\n",
        "    # OPTIMIZATION: Use EfficientNet-B0 instead of ResNet-50\n",
        "    model = timm.create_model('efficientnet_b0', pretrained=True, num_classes=num_classes)\n",
        "    return model"
      ],
      "metadata": {
        "id": "a972_PCDIHio"
      },
      "execution_count": 16,
      "outputs": []
    },
    {
      "cell_type": "code",
      "source": [
        "# 8. Create combined dataset for final training\n",
        "combined_dataset, combined_loader, balanced_combined_loader = combine_datasets(\n",
        "    train_dir,\n",
        "    val_dir,\n",
        "    output_dir,\n",
        "    train_transform\n",
        ")\n"
      ],
      "metadata": {
        "colab": {
          "base_uri": "https://localhost:8080/"
        },
        "id": "bYjfNN0gIKa5",
        "outputId": "a9c2a5fb-5804-40b9-f543-f42e79cb37f0"
      },
      "execution_count": 17,
      "outputs": [
        {
          "output_type": "stream",
          "name": "stdout",
          "text": [
            "Loading training and validation datasets...\n",
            "Train dataset size: 3489\n",
            "Validation dataset size: 955\n",
            "Combining datasets...\n",
            "Combined dataset size: 4444\n",
            "Calculating class counts for combined dataset...\n",
            "Combined class counts: [871, 113, 985, 407, 776, 373, 379, 540]\n",
            "Calculating class weights...\n",
            "Class weights: [0.001148105625717566, 0.008849557522123894, 0.0010152284263959391, 0.002457002457002457, 0.001288659793814433, 0.002680965147453083, 0.002638522427440633, 0.001851851851851852]\n",
            "Creating sample weights for combined dataset...\n",
            "Sample weights (first 10): [0.001148105625717566, 0.001148105625717566, 0.001148105625717566, 0.001148105625717566, 0.001148105625717566, 0.001148105625717566, 0.001148105625717566, 0.001148105625717566, 0.001148105625717566, 0.001148105625717566]\n",
            "Creating samplers and dataloaders...\n",
            "Combined DataLoaders created.\n"
          ]
        }
      ]
    },
    {
      "cell_type": "code",
      "source": [
        "# 9. Train baseline model - OPTIMIZATION: using smaller and faster model\n",
        "baseline_model = create_efficientnet_model()\n",
        "criterion = nn.CrossEntropyLoss()\n",
        "optimizer = optim.SGD(baseline_model.parameters(),\n",
        "                     lr=best_params['lr'],\n",
        "                     momentum=0.9,\n",
        "                     weight_decay=best_params['weight_decay'])\n",
        "scheduler = CosineAnnealingLR(optimizer, T_max=15)\n",
        "\n",
        "print(\"Training baseline model (EfficientNet-B0, 160x160, Imbalanced)\")\n",
        "baseline_model, baseline_history = train_model(\n",
        "    baseline_model,\n",
        "    combined_loader,\n",
        "    test_loader,\n",
        "    criterion,\n",
        "    optimizer,\n",
        "    scheduler,\n",
        "    num_epochs=15,\n",
        "    patience=3\n",
        ")"
      ],
      "metadata": {
        "colab": {
          "base_uri": "https://localhost:8080/",
          "height": 1000,
          "referenced_widgets": [
            "4a2d80772758412493e0c62b2369a3a3",
            "18c2c8ca2f294ca8be825792e5882432",
            "0a3f4ba86f664de8b8a8202fb05bb939",
            "7cac5670856645dd800ef3968ec4cc14",
            "cbd31592b66040578e20d833f7b7fd66",
            "57895b2d4b974f929766d38611f823f3",
            "8acd1ad7972e445faf5d6d444f15a9b0",
            "187710614040439889ad63def8db9694",
            "2ef6ecbd92e048a9bb9356f0d4174afd",
            "ff6551a1556a473386788d9798651c13",
            "e66558a5ec1f49edb71fbdb01078fedd"
          ]
        },
        "id": "W2TDPi_GIPrh",
        "outputId": "f61deae9-a5f6-47ac-f0b3-3774692e9734"
      },
      "execution_count": 18,
      "outputs": [
        {
          "output_type": "stream",
          "name": "stderr",
          "text": [
            "/usr/local/lib/python3.11/dist-packages/huggingface_hub/utils/_auth.py:94: UserWarning: \n",
            "The secret `HF_TOKEN` does not exist in your Colab secrets.\n",
            "To authenticate with the Hugging Face Hub, create a token in your settings tab (https://huggingface.co/settings/tokens), set it as secret in your Google Colab and restart your session.\n",
            "You will be able to reuse this secret in all of your notebooks.\n",
            "Please note that authentication is recommended but still optional to access public models or datasets.\n",
            "  warnings.warn(\n"
          ]
        },
        {
          "output_type": "display_data",
          "data": {
            "text/plain": [
              "model.safetensors:   0%|          | 0.00/21.4M [00:00<?, ?B/s]"
            ],
            "application/vnd.jupyter.widget-view+json": {
              "version_major": 2,
              "version_minor": 0,
              "model_id": "4a2d80772758412493e0c62b2369a3a3"
            }
          },
          "metadata": {}
        },
        {
          "output_type": "stream",
          "name": "stdout",
          "text": [
            "Training baseline model (EfficientNet-B0, 160x160, Imbalanced)\n",
            "Starting training...\n",
            "\n",
            "Epoch 1/15\n",
            "  [Batch 0] Loss: 4.6313\n"
          ]
        },
        {
          "output_type": "stream",
          "name": "stderr",
          "text": [
            "/usr/local/lib/python3.11/dist-packages/PIL/TiffImagePlugin.py:949: UserWarning: Truncated File Read\n",
            "  warnings.warn(str(msg))\n",
            "/usr/local/lib/python3.11/dist-packages/PIL/JpegImagePlugin.py:890: UserWarning: Image appears to be a malformed MPO file, it will be interpreted as a base JPEG file\n",
            "  warnings.warn(\n"
          ]
        },
        {
          "output_type": "stream",
          "name": "stdout",
          "text": [
            "  [Batch 10] Loss: 2.6204\n"
          ]
        },
        {
          "output_type": "stream",
          "name": "stderr",
          "text": [
            "/usr/local/lib/python3.11/dist-packages/PIL/Image.py:3402: DecompressionBombWarning: Image size (108000000 pixels) exceeds limit of 89478485 pixels, could be decompression bomb DOS attack.\n",
            "  warnings.warn(\n"
          ]
        },
        {
          "output_type": "stream",
          "name": "stdout",
          "text": [
            "  [Batch 20] Loss: 2.0576\n"
          ]
        },
        {
          "output_type": "stream",
          "name": "stderr",
          "text": [
            "/usr/local/lib/python3.11/dist-packages/PIL/TiffImagePlugin.py:949: UserWarning: Truncated File Read\n",
            "  warnings.warn(str(msg))\n",
            "/usr/local/lib/python3.11/dist-packages/PIL/JpegImagePlugin.py:890: UserWarning: Image appears to be a malformed MPO file, it will be interpreted as a base JPEG file\n",
            "  warnings.warn(\n"
          ]
        },
        {
          "output_type": "stream",
          "name": "stdout",
          "text": [
            "  [Batch 30] Loss: 1.5990\n",
            "  [Batch 40] Loss: 1.9828\n"
          ]
        },
        {
          "output_type": "stream",
          "name": "stderr",
          "text": [
            "/usr/local/lib/python3.11/dist-packages/PIL/Image.py:3402: DecompressionBombWarning: Image size (108000000 pixels) exceeds limit of 89478485 pixels, could be decompression bomb DOS attack.\n",
            "  warnings.warn(\n"
          ]
        },
        {
          "output_type": "stream",
          "name": "stdout",
          "text": [
            "  [Batch 50] Loss: 1.3781\n",
            "  [Batch 60] Loss: 1.5736\n",
            "  Train Loss: 2.1338, Train Acc: 0.4035\n",
            "  Val Loss: 1.4368, Val Acc: 0.4962\n",
            "  Improvement detected, saving model...\n",
            "\n",
            "Epoch 2/15\n",
            "  [Batch 0] Loss: 1.2169\n"
          ]
        },
        {
          "output_type": "stream",
          "name": "stderr",
          "text": [
            "/usr/local/lib/python3.11/dist-packages/PIL/TiffImagePlugin.py:949: UserWarning: Truncated File Read\n",
            "  warnings.warn(str(msg))\n",
            "/usr/local/lib/python3.11/dist-packages/PIL/JpegImagePlugin.py:890: UserWarning: Image appears to be a malformed MPO file, it will be interpreted as a base JPEG file\n",
            "  warnings.warn(\n",
            "/usr/local/lib/python3.11/dist-packages/PIL/Image.py:3402: DecompressionBombWarning: Image size (108000000 pixels) exceeds limit of 89478485 pixels, could be decompression bomb DOS attack.\n",
            "  warnings.warn(\n"
          ]
        },
        {
          "output_type": "stream",
          "name": "stdout",
          "text": [
            "  [Batch 10] Loss: 1.4475\n"
          ]
        },
        {
          "output_type": "stream",
          "name": "stderr",
          "text": [
            "/usr/local/lib/python3.11/dist-packages/PIL/TiffImagePlugin.py:949: UserWarning: Truncated File Read\n",
            "  warnings.warn(str(msg))\n",
            "/usr/local/lib/python3.11/dist-packages/PIL/JpegImagePlugin.py:890: UserWarning: Image appears to be a malformed MPO file, it will be interpreted as a base JPEG file\n",
            "  warnings.warn(\n"
          ]
        },
        {
          "output_type": "stream",
          "name": "stdout",
          "text": [
            "  [Batch 20] Loss: 1.1552\n",
            "  [Batch 30] Loss: 1.1243\n",
            "  [Batch 40] Loss: 0.9527\n",
            "  [Batch 50] Loss: 1.2162\n"
          ]
        },
        {
          "output_type": "stream",
          "name": "stderr",
          "text": [
            "/usr/local/lib/python3.11/dist-packages/PIL/Image.py:3402: DecompressionBombWarning: Image size (108000000 pixels) exceeds limit of 89478485 pixels, could be decompression bomb DOS attack.\n",
            "  warnings.warn(\n"
          ]
        },
        {
          "output_type": "stream",
          "name": "stdout",
          "text": [
            "  [Batch 60] Loss: 1.2372\n",
            "  Train Loss: 1.1031, Train Acc: 0.5923\n",
            "  Val Loss: 0.9415, Val Acc: 0.6667\n",
            "  Improvement detected, saving model...\n",
            "\n",
            "Epoch 3/15\n",
            "  [Batch 0] Loss: 0.6502\n"
          ]
        },
        {
          "output_type": "stream",
          "name": "stderr",
          "text": [
            "/usr/local/lib/python3.11/dist-packages/PIL/TiffImagePlugin.py:949: UserWarning: Truncated File Read\n",
            "  warnings.warn(str(msg))\n",
            "/usr/local/lib/python3.11/dist-packages/PIL/JpegImagePlugin.py:890: UserWarning: Image appears to be a malformed MPO file, it will be interpreted as a base JPEG file\n",
            "  warnings.warn(\n"
          ]
        },
        {
          "output_type": "stream",
          "name": "stdout",
          "text": [
            "  [Batch 10] Loss: 0.8179\n"
          ]
        },
        {
          "output_type": "stream",
          "name": "stderr",
          "text": [
            "/usr/local/lib/python3.11/dist-packages/PIL/Image.py:3402: DecompressionBombWarning: Image size (108000000 pixels) exceeds limit of 89478485 pixels, could be decompression bomb DOS attack.\n",
            "  warnings.warn(\n"
          ]
        },
        {
          "output_type": "stream",
          "name": "stdout",
          "text": [
            "  [Batch 20] Loss: 0.9549\n",
            "  [Batch 30] Loss: 0.6723\n",
            "  [Batch 40] Loss: 0.8440\n"
          ]
        },
        {
          "output_type": "stream",
          "name": "stderr",
          "text": [
            "/usr/local/lib/python3.11/dist-packages/PIL/Image.py:3402: DecompressionBombWarning: Image size (108000000 pixels) exceeds limit of 89478485 pixels, could be decompression bomb DOS attack.\n",
            "  warnings.warn(\n"
          ]
        },
        {
          "output_type": "stream",
          "name": "stdout",
          "text": [
            "  [Batch 50] Loss: 1.1521\n",
            "  [Batch 60] Loss: 0.7323\n",
            "  Train Loss: 0.8043, Train Acc: 0.7012\n",
            "  Val Loss: 0.8412, Val Acc: 0.7128\n",
            "  Improvement detected, saving model...\n",
            "\n",
            "Epoch 4/15\n",
            "  [Batch 0] Loss: 0.6197\n",
            "  [Batch 10] Loss: 0.6071\n"
          ]
        },
        {
          "output_type": "stream",
          "name": "stderr",
          "text": [
            "/usr/local/lib/python3.11/dist-packages/PIL/Image.py:3402: DecompressionBombWarning: Image size (108000000 pixels) exceeds limit of 89478485 pixels, could be decompression bomb DOS attack.\n",
            "  warnings.warn(\n"
          ]
        },
        {
          "output_type": "stream",
          "name": "stdout",
          "text": [
            "  [Batch 20] Loss: 0.6608\n",
            "  [Batch 30] Loss: 0.5491\n"
          ]
        },
        {
          "output_type": "stream",
          "name": "stderr",
          "text": [
            "/usr/local/lib/python3.11/dist-packages/PIL/TiffImagePlugin.py:949: UserWarning: Truncated File Read\n",
            "  warnings.warn(str(msg))\n",
            "/usr/local/lib/python3.11/dist-packages/PIL/JpegImagePlugin.py:890: UserWarning: Image appears to be a malformed MPO file, it will be interpreted as a base JPEG file\n",
            "  warnings.warn(\n"
          ]
        },
        {
          "output_type": "stream",
          "name": "stdout",
          "text": [
            "  [Batch 40] Loss: 0.5926\n",
            "  [Batch 50] Loss: 0.7112\n"
          ]
        },
        {
          "output_type": "stream",
          "name": "stderr",
          "text": [
            "/usr/local/lib/python3.11/dist-packages/PIL/TiffImagePlugin.py:949: UserWarning: Truncated File Read\n",
            "  warnings.warn(str(msg))\n",
            "/usr/local/lib/python3.11/dist-packages/PIL/JpegImagePlugin.py:890: UserWarning: Image appears to be a malformed MPO file, it will be interpreted as a base JPEG file\n",
            "  warnings.warn(\n"
          ]
        },
        {
          "output_type": "stream",
          "name": "stdout",
          "text": [
            "  [Batch 60] Loss: 0.8178\n",
            "  Train Loss: 0.6307, Train Acc: 0.7703\n",
            "  Val Loss: 0.7774, Val Acc: 0.7271\n",
            "  Improvement detected, saving model...\n",
            "\n",
            "Epoch 5/15\n",
            "  [Batch 0] Loss: 0.4061\n",
            "  [Batch 10] Loss: 0.5437\n",
            "  [Batch 20] Loss: 0.5853\n"
          ]
        },
        {
          "output_type": "stream",
          "name": "stderr",
          "text": [
            "/usr/local/lib/python3.11/dist-packages/PIL/TiffImagePlugin.py:949: UserWarning: Truncated File Read\n",
            "  warnings.warn(str(msg))\n",
            "/usr/local/lib/python3.11/dist-packages/PIL/JpegImagePlugin.py:890: UserWarning: Image appears to be a malformed MPO file, it will be interpreted as a base JPEG file\n",
            "  warnings.warn(\n",
            "/usr/local/lib/python3.11/dist-packages/PIL/Image.py:3402: DecompressionBombWarning: Image size (108000000 pixels) exceeds limit of 89478485 pixels, could be decompression bomb DOS attack.\n",
            "  warnings.warn(\n"
          ]
        },
        {
          "output_type": "stream",
          "name": "stdout",
          "text": [
            "  [Batch 30] Loss: 0.4718\n",
            "  [Batch 40] Loss: 0.4606\n",
            "  [Batch 50] Loss: 0.5415\n",
            "  [Batch 60] Loss: 0.5890\n"
          ]
        },
        {
          "output_type": "stream",
          "name": "stderr",
          "text": [
            "/usr/local/lib/python3.11/dist-packages/PIL/Image.py:3402: DecompressionBombWarning: Image size (108000000 pixels) exceeds limit of 89478485 pixels, could be decompression bomb DOS attack.\n",
            "  warnings.warn(\n"
          ]
        },
        {
          "output_type": "stream",
          "name": "stdout",
          "text": [
            "  Train Loss: 0.5158, Train Acc: 0.8060\n",
            "  Val Loss: 0.7145, Val Acc: 0.7624\n",
            "  Improvement detected, saving model...\n",
            "\n",
            "Epoch 6/15\n"
          ]
        },
        {
          "output_type": "stream",
          "name": "stderr",
          "text": [
            "/usr/local/lib/python3.11/dist-packages/PIL/TiffImagePlugin.py:949: UserWarning: Truncated File Read\n",
            "  warnings.warn(str(msg))\n",
            "/usr/local/lib/python3.11/dist-packages/PIL/JpegImagePlugin.py:890: UserWarning: Image appears to be a malformed MPO file, it will be interpreted as a base JPEG file\n",
            "  warnings.warn(\n"
          ]
        },
        {
          "output_type": "stream",
          "name": "stdout",
          "text": [
            "  [Batch 0] Loss: 0.3695\n",
            "  [Batch 10] Loss: 0.3727\n"
          ]
        },
        {
          "output_type": "stream",
          "name": "stderr",
          "text": [
            "/usr/local/lib/python3.11/dist-packages/PIL/Image.py:3402: DecompressionBombWarning: Image size (108000000 pixels) exceeds limit of 89478485 pixels, could be decompression bomb DOS attack.\n",
            "  warnings.warn(\n"
          ]
        },
        {
          "output_type": "stream",
          "name": "stdout",
          "text": [
            "  [Batch 20] Loss: 0.2713\n",
            "  [Batch 30] Loss: 0.3785\n",
            "  [Batch 40] Loss: 0.3901\n",
            "  [Batch 50] Loss: 0.3320\n",
            "  [Batch 60] Loss: 0.3066\n",
            "  Train Loss: 0.3996, Train Acc: 0.8522\n",
            "  Val Loss: 0.7556, Val Acc: 0.7590\n",
            "  No improvement. (1/3)\n",
            "\n",
            "Epoch 7/15\n",
            "  [Batch 0] Loss: 0.4145\n"
          ]
        },
        {
          "output_type": "stream",
          "name": "stderr",
          "text": [
            "/usr/local/lib/python3.11/dist-packages/PIL/TiffImagePlugin.py:949: UserWarning: Truncated File Read\n",
            "  warnings.warn(str(msg))\n",
            "/usr/local/lib/python3.11/dist-packages/PIL/JpegImagePlugin.py:890: UserWarning: Image appears to be a malformed MPO file, it will be interpreted as a base JPEG file\n",
            "  warnings.warn(\n"
          ]
        },
        {
          "output_type": "stream",
          "name": "stdout",
          "text": [
            "  [Batch 10] Loss: 0.4125\n",
            "  [Batch 20] Loss: 0.2133\n",
            "  [Batch 30] Loss: 0.2837\n"
          ]
        },
        {
          "output_type": "stream",
          "name": "stderr",
          "text": [
            "/usr/local/lib/python3.11/dist-packages/PIL/Image.py:3402: DecompressionBombWarning: Image size (108000000 pixels) exceeds limit of 89478485 pixels, could be decompression bomb DOS attack.\n",
            "  warnings.warn(\n"
          ]
        },
        {
          "output_type": "stream",
          "name": "stdout",
          "text": [
            "  [Batch 40] Loss: 0.3197\n",
            "  [Batch 50] Loss: 0.2121\n"
          ]
        },
        {
          "output_type": "stream",
          "name": "stderr",
          "text": [
            "/usr/local/lib/python3.11/dist-packages/PIL/TiffImagePlugin.py:949: UserWarning: Truncated File Read\n",
            "  warnings.warn(str(msg))\n",
            "/usr/local/lib/python3.11/dist-packages/PIL/JpegImagePlugin.py:890: UserWarning: Image appears to be a malformed MPO file, it will be interpreted as a base JPEG file\n",
            "  warnings.warn(\n"
          ]
        },
        {
          "output_type": "stream",
          "name": "stdout",
          "text": [
            "  [Batch 60] Loss: 0.2341\n",
            "  Train Loss: 0.3197, Train Acc: 0.8864\n",
            "  Val Loss: 0.7582, Val Acc: 0.7548\n",
            "  No improvement. (2/3)\n",
            "\n",
            "Epoch 8/15\n"
          ]
        },
        {
          "output_type": "stream",
          "name": "stderr",
          "text": [
            "/usr/local/lib/python3.11/dist-packages/PIL/TiffImagePlugin.py:949: UserWarning: Truncated File Read\n",
            "  warnings.warn(str(msg))\n",
            "/usr/local/lib/python3.11/dist-packages/PIL/JpegImagePlugin.py:890: UserWarning: Image appears to be a malformed MPO file, it will be interpreted as a base JPEG file\n",
            "  warnings.warn(\n"
          ]
        },
        {
          "output_type": "stream",
          "name": "stdout",
          "text": [
            "  [Batch 0] Loss: 0.1378\n",
            "  [Batch 10] Loss: 0.2365\n"
          ]
        },
        {
          "output_type": "stream",
          "name": "stderr",
          "text": [
            "/usr/local/lib/python3.11/dist-packages/PIL/Image.py:3402: DecompressionBombWarning: Image size (108000000 pixels) exceeds limit of 89478485 pixels, could be decompression bomb DOS attack.\n",
            "  warnings.warn(\n",
            "/usr/local/lib/python3.11/dist-packages/PIL/Image.py:3402: DecompressionBombWarning: Image size (99562261 pixels) exceeds limit of 89478485 pixels, could be decompression bomb DOS attack.\n",
            "  warnings.warn(\n"
          ]
        },
        {
          "output_type": "stream",
          "name": "stdout",
          "text": [
            "  [Batch 20] Loss: 0.1961\n",
            "  [Batch 30] Loss: 0.1822\n",
            "  [Batch 40] Loss: 0.3676\n"
          ]
        },
        {
          "output_type": "stream",
          "name": "stderr",
          "text": [
            "/usr/local/lib/python3.11/dist-packages/PIL/Image.py:3402: DecompressionBombWarning: Image size (108000000 pixels) exceeds limit of 89478485 pixels, could be decompression bomb DOS attack.\n",
            "  warnings.warn(\n"
          ]
        },
        {
          "output_type": "stream",
          "name": "stdout",
          "text": [
            "  [Batch 50] Loss: 0.2994\n",
            "  [Batch 60] Loss: 0.2095\n",
            "  Train Loss: 0.2525, Train Acc: 0.9113\n",
            "  Val Loss: 0.7803, Val Acc: 0.7792\n",
            "  Improvement detected, saving model...\n",
            "\n",
            "Epoch 9/15\n",
            "  [Batch 0] Loss: 0.1531\n",
            "  [Batch 10] Loss: 0.1837\n",
            "  [Batch 20] Loss: 0.1519\n"
          ]
        },
        {
          "output_type": "stream",
          "name": "stderr",
          "text": [
            "/usr/local/lib/python3.11/dist-packages/PIL/TiffImagePlugin.py:949: UserWarning: Truncated File Read\n",
            "  warnings.warn(str(msg))\n",
            "/usr/local/lib/python3.11/dist-packages/PIL/JpegImagePlugin.py:890: UserWarning: Image appears to be a malformed MPO file, it will be interpreted as a base JPEG file\n",
            "  warnings.warn(\n",
            "/usr/local/lib/python3.11/dist-packages/PIL/Image.py:3402: DecompressionBombWarning: Image size (108000000 pixels) exceeds limit of 89478485 pixels, could be decompression bomb DOS attack.\n",
            "  warnings.warn(\n",
            "/usr/local/lib/python3.11/dist-packages/PIL/TiffImagePlugin.py:949: UserWarning: Truncated File Read\n",
            "  warnings.warn(str(msg))\n",
            "/usr/local/lib/python3.11/dist-packages/PIL/JpegImagePlugin.py:890: UserWarning: Image appears to be a malformed MPO file, it will be interpreted as a base JPEG file\n",
            "  warnings.warn(\n"
          ]
        },
        {
          "output_type": "stream",
          "name": "stdout",
          "text": [
            "  [Batch 30] Loss: 0.2371\n",
            "  [Batch 40] Loss: 0.1815\n",
            "  [Batch 50] Loss: 0.1992\n",
            "  [Batch 60] Loss: 0.1598\n"
          ]
        },
        {
          "output_type": "stream",
          "name": "stderr",
          "text": [
            "/usr/local/lib/python3.11/dist-packages/PIL/Image.py:3402: DecompressionBombWarning: Image size (108000000 pixels) exceeds limit of 89478485 pixels, could be decompression bomb DOS attack.\n",
            "  warnings.warn(\n"
          ]
        },
        {
          "output_type": "stream",
          "name": "stdout",
          "text": [
            "  Train Loss: 0.2171, Train Acc: 0.9271\n",
            "  Val Loss: 0.7663, Val Acc: 0.7716\n",
            "  No improvement. (1/3)\n",
            "\n",
            "Epoch 10/15\n"
          ]
        },
        {
          "output_type": "stream",
          "name": "stderr",
          "text": [
            "/usr/local/lib/python3.11/dist-packages/PIL/Image.py:3402: DecompressionBombWarning: Image size (108000000 pixels) exceeds limit of 89478485 pixels, could be decompression bomb DOS attack.\n",
            "  warnings.warn(\n"
          ]
        },
        {
          "output_type": "stream",
          "name": "stdout",
          "text": [
            "  [Batch 0] Loss: 0.2053\n"
          ]
        },
        {
          "output_type": "stream",
          "name": "stderr",
          "text": [
            "/usr/local/lib/python3.11/dist-packages/PIL/TiffImagePlugin.py:949: UserWarning: Truncated File Read\n",
            "  warnings.warn(str(msg))\n",
            "/usr/local/lib/python3.11/dist-packages/PIL/JpegImagePlugin.py:890: UserWarning: Image appears to be a malformed MPO file, it will be interpreted as a base JPEG file\n",
            "  warnings.warn(\n"
          ]
        },
        {
          "output_type": "stream",
          "name": "stdout",
          "text": [
            "  [Batch 10] Loss: 0.1663\n"
          ]
        },
        {
          "output_type": "stream",
          "name": "stderr",
          "text": [
            "/usr/local/lib/python3.11/dist-packages/PIL/TiffImagePlugin.py:949: UserWarning: Truncated File Read\n",
            "  warnings.warn(str(msg))\n",
            "/usr/local/lib/python3.11/dist-packages/PIL/JpegImagePlugin.py:890: UserWarning: Image appears to be a malformed MPO file, it will be interpreted as a base JPEG file\n",
            "  warnings.warn(\n"
          ]
        },
        {
          "output_type": "stream",
          "name": "stdout",
          "text": [
            "  [Batch 20] Loss: 0.2160\n",
            "  [Batch 30] Loss: 0.1093\n",
            "  [Batch 40] Loss: 0.0892\n",
            "  [Batch 50] Loss: 0.1624\n",
            "  [Batch 60] Loss: 0.1407\n",
            "  Train Loss: 0.1679, Train Acc: 0.9397\n",
            "  Val Loss: 0.7729, Val Acc: 0.7699\n",
            "  No improvement. (2/3)\n",
            "\n",
            "Epoch 11/15\n",
            "  [Batch 0] Loss: 0.2034\n"
          ]
        },
        {
          "output_type": "stream",
          "name": "stderr",
          "text": [
            "/usr/local/lib/python3.11/dist-packages/PIL/Image.py:3402: DecompressionBombWarning: Image size (108000000 pixels) exceeds limit of 89478485 pixels, could be decompression bomb DOS attack.\n",
            "  warnings.warn(\n",
            "/usr/local/lib/python3.11/dist-packages/PIL/TiffImagePlugin.py:949: UserWarning: Truncated File Read\n",
            "  warnings.warn(str(msg))\n",
            "/usr/local/lib/python3.11/dist-packages/PIL/JpegImagePlugin.py:890: UserWarning: Image appears to be a malformed MPO file, it will be interpreted as a base JPEG file\n",
            "  warnings.warn(\n"
          ]
        },
        {
          "output_type": "stream",
          "name": "stdout",
          "text": [
            "  [Batch 10] Loss: 0.2165\n",
            "  [Batch 20] Loss: 0.0619\n",
            "  [Batch 30] Loss: 0.1433\n",
            "  [Batch 40] Loss: 0.0960\n",
            "  [Batch 50] Loss: 0.1702\n",
            "  [Batch 60] Loss: 0.0909\n",
            "  Train Loss: 0.1498, Train Acc: 0.9471\n",
            "  Val Loss: 0.7838, Val Acc: 0.7842\n",
            "  Improvement detected, saving model...\n",
            "\n",
            "Epoch 12/15\n"
          ]
        },
        {
          "output_type": "stream",
          "name": "stderr",
          "text": [
            "/usr/local/lib/python3.11/dist-packages/PIL/Image.py:3402: DecompressionBombWarning: Image size (108000000 pixels) exceeds limit of 89478485 pixels, could be decompression bomb DOS attack.\n",
            "  warnings.warn(\n"
          ]
        },
        {
          "output_type": "stream",
          "name": "stdout",
          "text": [
            "  [Batch 0] Loss: 0.0861\n"
          ]
        },
        {
          "output_type": "stream",
          "name": "stderr",
          "text": [
            "/usr/local/lib/python3.11/dist-packages/PIL/TiffImagePlugin.py:949: UserWarning: Truncated File Read\n",
            "  warnings.warn(str(msg))\n",
            "/usr/local/lib/python3.11/dist-packages/PIL/JpegImagePlugin.py:890: UserWarning: Image appears to be a malformed MPO file, it will be interpreted as a base JPEG file\n",
            "  warnings.warn(\n"
          ]
        },
        {
          "output_type": "stream",
          "name": "stdout",
          "text": [
            "  [Batch 10] Loss: 0.1413\n",
            "  [Batch 20] Loss: 0.1287\n",
            "  [Batch 30] Loss: 0.1125\n",
            "  [Batch 40] Loss: 0.1739\n"
          ]
        },
        {
          "output_type": "stream",
          "name": "stderr",
          "text": [
            "/usr/local/lib/python3.11/dist-packages/PIL/TiffImagePlugin.py:949: UserWarning: Truncated File Read\n",
            "  warnings.warn(str(msg))\n",
            "/usr/local/lib/python3.11/dist-packages/PIL/JpegImagePlugin.py:890: UserWarning: Image appears to be a malformed MPO file, it will be interpreted as a base JPEG file\n",
            "  warnings.warn(\n"
          ]
        },
        {
          "output_type": "stream",
          "name": "stdout",
          "text": [
            "  [Batch 50] Loss: 0.1129\n"
          ]
        },
        {
          "output_type": "stream",
          "name": "stderr",
          "text": [
            "/usr/local/lib/python3.11/dist-packages/PIL/Image.py:3402: DecompressionBombWarning: Image size (108000000 pixels) exceeds limit of 89478485 pixels, could be decompression bomb DOS attack.\n",
            "  warnings.warn(\n"
          ]
        },
        {
          "output_type": "stream",
          "name": "stdout",
          "text": [
            "  [Batch 60] Loss: 0.1340\n",
            "  Train Loss: 0.1418, Train Acc: 0.9518\n",
            "  Val Loss: 0.8028, Val Acc: 0.7783\n",
            "  No improvement. (1/3)\n",
            "\n",
            "Epoch 13/15\n"
          ]
        },
        {
          "output_type": "stream",
          "name": "stderr",
          "text": [
            "/usr/local/lib/python3.11/dist-packages/PIL/Image.py:3402: DecompressionBombWarning: Image size (108000000 pixels) exceeds limit of 89478485 pixels, could be decompression bomb DOS attack.\n",
            "  warnings.warn(\n"
          ]
        },
        {
          "output_type": "stream",
          "name": "stdout",
          "text": [
            "  [Batch 0] Loss: 0.1098\n"
          ]
        },
        {
          "output_type": "stream",
          "name": "stderr",
          "text": [
            "/usr/local/lib/python3.11/dist-packages/PIL/TiffImagePlugin.py:949: UserWarning: Truncated File Read\n",
            "  warnings.warn(str(msg))\n",
            "/usr/local/lib/python3.11/dist-packages/PIL/JpegImagePlugin.py:890: UserWarning: Image appears to be a malformed MPO file, it will be interpreted as a base JPEG file\n",
            "  warnings.warn(\n"
          ]
        },
        {
          "output_type": "stream",
          "name": "stdout",
          "text": [
            "  [Batch 10] Loss: 0.0543\n",
            "  [Batch 20] Loss: 0.0960\n",
            "  [Batch 30] Loss: 0.0978\n",
            "  [Batch 40] Loss: 0.1707\n"
          ]
        },
        {
          "output_type": "stream",
          "name": "stderr",
          "text": [
            "/usr/local/lib/python3.11/dist-packages/PIL/Image.py:3402: DecompressionBombWarning: Image size (92928736 pixels) exceeds limit of 89478485 pixels, could be decompression bomb DOS attack.\n",
            "  warnings.warn(\n"
          ]
        },
        {
          "output_type": "stream",
          "name": "stdout",
          "text": [
            "  [Batch 50] Loss: 0.1474\n",
            "  [Batch 60] Loss: 0.0541\n",
            "  Train Loss: 0.1222, Train Acc: 0.9626\n",
            "  Val Loss: 0.7969, Val Acc: 0.7817\n",
            "  No improvement. (2/3)\n",
            "\n",
            "Epoch 14/15\n",
            "  [Batch 0] Loss: 0.0365\n",
            "  [Batch 10] Loss: 0.0649\n",
            "  [Batch 20] Loss: 0.0570\n",
            "  [Batch 30] Loss: 0.2564\n",
            "  [Batch 40] Loss: 0.1270\n"
          ]
        },
        {
          "output_type": "stream",
          "name": "stderr",
          "text": [
            "/usr/local/lib/python3.11/dist-packages/PIL/Image.py:3402: DecompressionBombWarning: Image size (108000000 pixels) exceeds limit of 89478485 pixels, could be decompression bomb DOS attack.\n",
            "  warnings.warn(\n",
            "/usr/local/lib/python3.11/dist-packages/PIL/Image.py:3402: DecompressionBombWarning: Image size (101978514 pixels) exceeds limit of 89478485 pixels, could be decompression bomb DOS attack.\n",
            "  warnings.warn(\n",
            "/usr/local/lib/python3.11/dist-packages/PIL/TiffImagePlugin.py:949: UserWarning: Truncated File Read\n",
            "  warnings.warn(str(msg))\n",
            "/usr/local/lib/python3.11/dist-packages/PIL/JpegImagePlugin.py:890: UserWarning: Image appears to be a malformed MPO file, it will be interpreted as a base JPEG file\n",
            "  warnings.warn(\n"
          ]
        },
        {
          "output_type": "stream",
          "name": "stdout",
          "text": [
            "  [Batch 50] Loss: 0.2206\n",
            "  [Batch 60] Loss: 0.0493\n",
            "  Train Loss: 0.1341, Train Acc: 0.9597\n",
            "  Val Loss: 0.7865, Val Acc: 0.7876\n",
            "  Improvement detected, saving model...\n",
            "\n",
            "Epoch 15/15\n",
            "  [Batch 0] Loss: 0.2265\n",
            "  [Batch 10] Loss: 0.1417\n"
          ]
        },
        {
          "output_type": "stream",
          "name": "stderr",
          "text": [
            "/usr/local/lib/python3.11/dist-packages/PIL/TiffImagePlugin.py:949: UserWarning: Truncated File Read\n",
            "  warnings.warn(str(msg))\n",
            "/usr/local/lib/python3.11/dist-packages/PIL/JpegImagePlugin.py:890: UserWarning: Image appears to be a malformed MPO file, it will be interpreted as a base JPEG file\n",
            "  warnings.warn(\n",
            "/usr/local/lib/python3.11/dist-packages/PIL/Image.py:3402: DecompressionBombWarning: Image size (108000000 pixels) exceeds limit of 89478485 pixels, could be decompression bomb DOS attack.\n",
            "  warnings.warn(\n"
          ]
        },
        {
          "output_type": "stream",
          "name": "stdout",
          "text": [
            "  [Batch 20] Loss: 0.1345\n",
            "  [Batch 30] Loss: 0.0664\n",
            "  [Batch 40] Loss: 0.1220\n",
            "  [Batch 50] Loss: 0.0647\n"
          ]
        },
        {
          "output_type": "stream",
          "name": "stderr",
          "text": [
            "/usr/local/lib/python3.11/dist-packages/PIL/Image.py:3402: DecompressionBombWarning: Image size (108000000 pixels) exceeds limit of 89478485 pixels, could be decompression bomb DOS attack.\n",
            "  warnings.warn(\n"
          ]
        },
        {
          "output_type": "stream",
          "name": "stdout",
          "text": [
            "  [Batch 60] Loss: 0.0972\n",
            "  Train Loss: 0.1155, Train Acc: 0.9640\n",
            "  Val Loss: 0.7889, Val Acc: 0.7817\n",
            "  No improvement. (1/3)\n"
          ]
        }
      ]
    },
    {
      "cell_type": "code",
      "source": [
        "# 10. Evaluate baseline model\n",
        "baseline_results = evaluate_model(baseline_model, test_loader, criterion)\n",
        "baseline_loss, baseline_acc, baseline_balanced_acc, baseline_cm, baseline_preds, baseline_labels = baseline_results\n",
        "\n",
        "plot_confusion_matrix(\n",
        "    baseline_cm,\n",
        "    all_classes,\n",
        "    f'Baseline Confusion Matrix (Balanced Acc: {baseline_balanced_acc:.4f})',\n",
        "    os.path.join(output_dir, 'confusion_matrix_baseline.png')\n",
        ")"
      ],
      "metadata": {
        "colab": {
          "base_uri": "https://localhost:8080/"
        },
        "id": "nFPVUk1IsyW2",
        "outputId": "bc1d05ea-957c-4f60-9f97-5452d514110b"
      },
      "execution_count": 19,
      "outputs": [
        {
          "output_type": "stream",
          "name": "stdout",
          "text": [
            "\n",
            "Evaluating model on test set...\n",
            "  Processed batch 0\n",
            "  Processed batch 5\n",
            "  Processed batch 10\n",
            "  Processed batch 15\n",
            "\n",
            "Test Results — Loss: 0.7889, Acc: 0.7817, Balanced Acc: 0.7515\n",
            "Saving confusion matrix plot to: /content/drive/MyDrive/temple_classification_output/confusion_matrix_baseline.png\n",
            "Plot saved.\n"
          ]
        }
      ]
    },
    {
      "cell_type": "code",
      "source": [
        "import pandas as pd\n",
        "import seaborn as sns\n",
        "import matplotlib.pyplot as plt\n",
        "\n",
        "# Create the DataFrame\n",
        "cm_df = pd.DataFrame(baseline_cm, index=all_classes, columns=all_classes)\n",
        "print(\"Confusion Matrix:\")\n",
        "print(cm_df)\n",
        "\n",
        "# Plot the heatmap\n",
        "plt.figure(figsize=(10, 8))\n",
        "sns.heatmap(cm_df, annot=True, fmt='.2f', cmap='Blues')  # Use '.2f' for float formatting\n",
        "plt.title(f'Confusion Matrix (Balanced Acc: {baseline_balanced_acc:.4f})')\n",
        "plt.xlabel('Predicted Labels')\n",
        "plt.ylabel('True Labels')\n",
        "plt.show()\n"
      ],
      "metadata": {
        "colab": {
          "base_uri": "https://localhost:8080/",
          "height": 1000
        },
        "id": "FtEPKdpXtMtQ",
        "outputId": "7d27f674-344a-4540-c713-30c142acac78"
      },
      "execution_count": 25,
      "outputs": [
        {
          "output_type": "stream",
          "name": "stdout",
          "text": [
            "Confusion Matrix:\n",
            "                   church_romanesque  church_modern  church_gothic  \\\n",
            "church_romanesque           0.821101       0.004587       0.045872   \n",
            "church_modern               0.275862       0.275862       0.034483   \n",
            "church_gothic               0.093117       0.000000       0.688259   \n",
            "church_byzantine            0.058824       0.000000       0.078431   \n",
            "church_baroque              0.103093       0.005155       0.293814   \n",
            "mosque_turkish              0.008696       0.000000       0.000000   \n",
            "mosque_persian              0.000000       0.000000       0.000000   \n",
            "mosque_arabic               0.000000       0.000000       0.000000   \n",
            "\n",
            "                   church_byzantine  church_baroque  mosque_turkish  \\\n",
            "church_romanesque          0.018349        0.073394        0.009174   \n",
            "church_modern              0.000000        0.137931        0.103448   \n",
            "church_gothic              0.008097        0.190283        0.004049   \n",
            "church_byzantine           0.794118        0.019608        0.000000   \n",
            "church_baroque             0.010309        0.556701        0.005155   \n",
            "mosque_turkish             0.000000        0.026087        0.939130   \n",
            "mosque_persian             0.000000        0.000000        0.025000   \n",
            "mosque_arabic              0.006024        0.000000        0.024096   \n",
            "\n",
            "                   mosque_persian  mosque_arabic  \n",
            "church_romanesque        0.000000       0.027523  \n",
            "church_modern            0.034483       0.137931  \n",
            "church_gothic            0.012146       0.004049  \n",
            "church_byzantine         0.019608       0.029412  \n",
            "church_baroque           0.005155       0.020619  \n",
            "mosque_turkish           0.008696       0.017391  \n",
            "mosque_persian           0.966667       0.008333  \n",
            "mosque_arabic            0.000000       0.969880  \n"
          ]
        },
        {
          "output_type": "display_data",
          "data": {
            "text/plain": [
              "<Figure size 1000x800 with 2 Axes>"
            ],
            "image/png": "[encoded data removed]"
          },
          "metadata": {}
        }
      ]
    },
    {
      "cell_type": "code",
      "source": [
        "# 11. Train balanced model\n",
        "balanced_model = create_efficientnet_model()\n",
        "optimizer = optim.SGD(balanced_model.parameters(),\n",
        "                     lr=best_params['lr'],\n",
        "                     momentum=0.9,\n",
        "                     weight_decay=best_params['weight_decay'])\n",
        "scheduler = CosineAnnealingLR(optimizer, T_max=15)\n",
        "\n",
        "print(\"Training balanced model (EfficientNet-B0, 160x160, Balanced)\")\n",
        "balanced_model, balanced_history = train_model(\n",
        "    balanced_model,\n",
        "    balanced_combined_loader,\n",
        "    test_loader,\n",
        "    criterion,\n",
        "    optimizer,\n",
        "    scheduler,\n",
        "    num_epochs=15,\n",
        "    patience=3\n",
        ")\n",
        "\n",
        "balanced_results = evaluate_model(balanced_model, test_loader, criterion)\n",
        "_, _, balanced_balanced_acc, balanced_cm, balanced_preds, balanced_labels = balanced_results\n",
        "\n",
        "plot_confusion_matrix(\n",
        "    balanced_cm,\n",
        "    all_classes,\n",
        "    f'Balanced Training Confusion Matrix (Balanced Acc: {balanced_balanced_acc:.4f})',\n",
        "    os.path.join(output_dir, 'confusion_matrix_balanced.png')\n",
        ")"
      ],
      "metadata": {
        "colab": {
          "base_uri": "https://localhost:8080/"
        },
        "id": "OOgU72z7vuFC",
        "outputId": "f99c5864-e606-4e67-fea4-96f145b85338"
      },
      "execution_count": 26,
      "outputs": [
        {
          "output_type": "stream",
          "name": "stdout",
          "text": [
            "Training balanced model (EfficientNet-B0, 160x160, Balanced)\n",
            "Starting training...\n",
            "\n",
            "Epoch 1/15\n",
            "  [Batch 0] Loss: 4.5540\n",
            "  [Batch 10] Loss: 2.6111\n"
          ]
        },
        {
          "output_type": "stream",
          "name": "stderr",
          "text": [
            "/usr/local/lib/python3.11/dist-packages/PIL/TiffImagePlugin.py:949: UserWarning: Truncated File Read\n",
            "  warnings.warn(str(msg))\n",
            "/usr/local/lib/python3.11/dist-packages/PIL/JpegImagePlugin.py:890: UserWarning: Image appears to be a malformed MPO file, it will be interpreted as a base JPEG file\n",
            "  warnings.warn(\n",
            "/usr/local/lib/python3.11/dist-packages/PIL/Image.py:3402: DecompressionBombWarning: Image size (108000000 pixels) exceeds limit of 89478485 pixels, could be decompression bomb DOS attack.\n",
            "  warnings.warn(\n"
          ]
        },
        {
          "output_type": "stream",
          "name": "stdout",
          "text": [
            "  [Batch 20] Loss: 1.7096\n",
            "  [Batch 30] Loss: 2.0320\n",
            "  [Batch 40] Loss: 1.6722\n"
          ]
        },
        {
          "output_type": "stream",
          "name": "stderr",
          "text": [
            "/usr/local/lib/python3.11/dist-packages/PIL/Image.py:3402: DecompressionBombWarning: Image size (108000000 pixels) exceeds limit of 89478485 pixels, could be decompression bomb DOS attack.\n",
            "  warnings.warn(\n"
          ]
        },
        {
          "output_type": "stream",
          "name": "stdout",
          "text": [
            "  [Batch 50] Loss: 1.5012\n",
            "  [Batch 60] Loss: 1.0005\n",
            "  Train Loss: 1.8521, Train Acc: 0.4856\n",
            "  Val Loss: 1.1889, Val Acc: 0.5987\n",
            "  Improvement detected, saving model...\n",
            "\n",
            "Epoch 2/15\n"
          ]
        },
        {
          "output_type": "stream",
          "name": "stderr",
          "text": [
            "/usr/local/lib/python3.11/dist-packages/PIL/TiffImagePlugin.py:949: UserWarning: Truncated File Read\n",
            "  warnings.warn(str(msg))\n",
            "/usr/local/lib/python3.11/dist-packages/PIL/JpegImagePlugin.py:890: UserWarning: Image appears to be a malformed MPO file, it will be interpreted as a base JPEG file\n",
            "  warnings.warn(\n"
          ]
        },
        {
          "output_type": "stream",
          "name": "stdout",
          "text": [
            "  [Batch 0] Loss: 0.8682\n"
          ]
        },
        {
          "output_type": "stream",
          "name": "stderr",
          "text": [
            "/usr/local/lib/python3.11/dist-packages/PIL/Image.py:3402: DecompressionBombWarning: Image size (108000000 pixels) exceeds limit of 89478485 pixels, could be decompression bomb DOS attack.\n",
            "  warnings.warn(\n",
            "/usr/local/lib/python3.11/dist-packages/PIL/Image.py:3402: DecompressionBombWarning: Image size (94410943 pixels) exceeds limit of 89478485 pixels, could be decompression bomb DOS attack.\n",
            "  warnings.warn(\n",
            "/usr/local/lib/python3.11/dist-packages/PIL/Image.py:3402: DecompressionBombWarning: Image size (108000000 pixels) exceeds limit of 89478485 pixels, could be decompression bomb DOS attack.\n",
            "  warnings.warn(\n"
          ]
        },
        {
          "output_type": "stream",
          "name": "stdout",
          "text": [
            "  [Batch 10] Loss: 0.8133\n",
            "  [Batch 20] Loss: 1.1561\n",
            "  [Batch 30] Loss: 0.8905\n",
            "  [Batch 40] Loss: 0.7751\n",
            "  [Batch 50] Loss: 0.3914\n",
            "  [Batch 60] Loss: 0.5166\n",
            "  Train Loss: 0.8225, Train Acc: 0.7106\n",
            "  Val Loss: 0.9158, Val Acc: 0.6868\n",
            "  Improvement detected, saving model...\n",
            "\n",
            "Epoch 3/15\n",
            "  [Batch 0] Loss: 0.5849\n",
            "  [Batch 10] Loss: 0.4559\n"
          ]
        },
        {
          "output_type": "stream",
          "name": "stderr",
          "text": [
            "/usr/local/lib/python3.11/dist-packages/PIL/TiffImagePlugin.py:949: UserWarning: Truncated File Read\n",
            "  warnings.warn(str(msg))\n",
            "/usr/local/lib/python3.11/dist-packages/PIL/JpegImagePlugin.py:890: UserWarning: Image appears to be a malformed MPO file, it will be interpreted as a base JPEG file\n",
            "  warnings.warn(\n"
          ]
        },
        {
          "output_type": "stream",
          "name": "stdout",
          "text": [
            "  [Batch 20] Loss: 0.4295\n"
          ]
        },
        {
          "output_type": "stream",
          "name": "stderr",
          "text": [
            "/usr/local/lib/python3.11/dist-packages/PIL/Image.py:3402: DecompressionBombWarning: Image size (108000000 pixels) exceeds limit of 89478485 pixels, could be decompression bomb DOS attack.\n",
            "  warnings.warn(\n"
          ]
        },
        {
          "output_type": "stream",
          "name": "stdout",
          "text": [
            "  [Batch 30] Loss: 0.6275\n",
            "  [Batch 40] Loss: 0.5428\n",
            "  [Batch 50] Loss: 0.5624\n",
            "  [Batch 60] Loss: 0.3153\n",
            "  Train Loss: 0.5611, Train Acc: 0.8033\n",
            "  Val Loss: 0.8232, Val Acc: 0.7204\n",
            "  Improvement detected, saving model...\n",
            "\n",
            "Epoch 4/15\n"
          ]
        },
        {
          "output_type": "stream",
          "name": "stderr",
          "text": [
            "/usr/local/lib/python3.11/dist-packages/PIL/TiffImagePlugin.py:949: UserWarning: Truncated File Read\n",
            "  warnings.warn(str(msg))\n",
            "/usr/local/lib/python3.11/dist-packages/PIL/JpegImagePlugin.py:890: UserWarning: Image appears to be a malformed MPO file, it will be interpreted as a base JPEG file\n",
            "  warnings.warn(\n"
          ]
        },
        {
          "output_type": "stream",
          "name": "stdout",
          "text": [
            "  [Batch 0] Loss: 0.4848\n",
            "  [Batch 10] Loss: 0.3384\n",
            "  [Batch 20] Loss: 0.2615\n"
          ]
        },
        {
          "output_type": "stream",
          "name": "stderr",
          "text": [
            "/usr/local/lib/python3.11/dist-packages/PIL/TiffImagePlugin.py:949: UserWarning: Truncated File Read\n",
            "  warnings.warn(str(msg))\n",
            "/usr/local/lib/python3.11/dist-packages/PIL/JpegImagePlugin.py:890: UserWarning: Image appears to be a malformed MPO file, it will be interpreted as a base JPEG file\n",
            "  warnings.warn(\n",
            "/usr/local/lib/python3.11/dist-packages/PIL/Image.py:3402: DecompressionBombWarning: Image size (108000000 pixels) exceeds limit of 89478485 pixels, could be decompression bomb DOS attack.\n",
            "  warnings.warn(\n"
          ]
        },
        {
          "output_type": "stream",
          "name": "stdout",
          "text": [
            "  [Batch 30] Loss: 0.6558\n",
            "  [Batch 40] Loss: 0.3485\n",
            "  [Batch 50] Loss: 0.5009\n",
            "  [Batch 60] Loss: 0.4359\n",
            "  Train Loss: 0.4365, Train Acc: 0.8436\n",
            "  Val Loss: 0.7236, Val Acc: 0.7456\n",
            "  Improvement detected, saving model...\n",
            "\n",
            "Epoch 5/15\n",
            "  [Batch 0] Loss: 0.4051\n"
          ]
        },
        {
          "output_type": "stream",
          "name": "stderr",
          "text": [
            "/usr/local/lib/python3.11/dist-packages/PIL/TiffImagePlugin.py:949: UserWarning: Truncated File Read\n",
            "  warnings.warn(str(msg))\n",
            "/usr/local/lib/python3.11/dist-packages/PIL/JpegImagePlugin.py:890: UserWarning: Image appears to be a malformed MPO file, it will be interpreted as a base JPEG file\n",
            "  warnings.warn(\n"
          ]
        },
        {
          "output_type": "stream",
          "name": "stdout",
          "text": [
            "  [Batch 10] Loss: 0.2908\n",
            "  [Batch 20] Loss: 0.3977\n",
            "  [Batch 30] Loss: 0.2406\n"
          ]
        },
        {
          "output_type": "stream",
          "name": "stderr",
          "text": [
            "/usr/local/lib/python3.11/dist-packages/PIL/Image.py:3402: DecompressionBombWarning: Image size (108000000 pixels) exceeds limit of 89478485 pixels, could be decompression bomb DOS attack.\n",
            "  warnings.warn(\n"
          ]
        },
        {
          "output_type": "stream",
          "name": "stdout",
          "text": [
            "  [Batch 40] Loss: 0.4626\n"
          ]
        },
        {
          "output_type": "stream",
          "name": "stderr",
          "text": [
            "/usr/local/lib/python3.11/dist-packages/PIL/Image.py:3402: DecompressionBombWarning: Image size (108000000 pixels) exceeds limit of 89478485 pixels, could be decompression bomb DOS attack.\n",
            "  warnings.warn(\n",
            "/usr/local/lib/python3.11/dist-packages/PIL/TiffImagePlugin.py:949: UserWarning: Truncated File Read\n",
            "  warnings.warn(str(msg))\n",
            "/usr/local/lib/python3.11/dist-packages/PIL/JpegImagePlugin.py:890: UserWarning: Image appears to be a malformed MPO file, it will be interpreted as a base JPEG file\n",
            "  warnings.warn(\n"
          ]
        },
        {
          "output_type": "stream",
          "name": "stdout",
          "text": [
            "  [Batch 50] Loss: 0.3206\n",
            "  [Batch 60] Loss: 0.2399\n",
            "  Train Loss: 0.3574, Train Acc: 0.8724\n",
            "  Val Loss: 0.6860, Val Acc: 0.7674\n",
            "  Improvement detected, saving model...\n",
            "\n",
            "Epoch 6/15\n",
            "  [Batch 0] Loss: 0.2266\n"
          ]
        },
        {
          "output_type": "stream",
          "name": "stderr",
          "text": [
            "/usr/local/lib/python3.11/dist-packages/PIL/TiffImagePlugin.py:949: UserWarning: Truncated File Read\n",
            "  warnings.warn(str(msg))\n",
            "/usr/local/lib/python3.11/dist-packages/PIL/JpegImagePlugin.py:890: UserWarning: Image appears to be a malformed MPO file, it will be interpreted as a base JPEG file\n",
            "  warnings.warn(\n"
          ]
        },
        {
          "output_type": "stream",
          "name": "stdout",
          "text": [
            "  [Batch 10] Loss: 0.3352\n",
            "  [Batch 20] Loss: 0.2408\n"
          ]
        },
        {
          "output_type": "stream",
          "name": "stderr",
          "text": [
            "/usr/local/lib/python3.11/dist-packages/PIL/Image.py:3402: DecompressionBombWarning: Image size (108000000 pixels) exceeds limit of 89478485 pixels, could be decompression bomb DOS attack.\n",
            "  warnings.warn(\n"
          ]
        },
        {
          "output_type": "stream",
          "name": "stdout",
          "text": [
            "  [Batch 30] Loss: 0.2270\n",
            "  [Batch 40] Loss: 0.1729\n",
            "  [Batch 50] Loss: 0.3671\n",
            "  [Batch 60] Loss: 0.2440\n",
            "  Train Loss: 0.2935, Train Acc: 0.8960\n",
            "  Val Loss: 0.6936, Val Acc: 0.7750\n",
            "  Improvement detected, saving model...\n",
            "\n",
            "Epoch 7/15\n"
          ]
        },
        {
          "output_type": "stream",
          "name": "stderr",
          "text": [
            "/usr/local/lib/python3.11/dist-packages/PIL/Image.py:3402: DecompressionBombWarning: Image size (108000000 pixels) exceeds limit of 89478485 pixels, could be decompression bomb DOS attack.\n",
            "  warnings.warn(\n",
            "/usr/local/lib/python3.11/dist-packages/PIL/TiffImagePlugin.py:949: UserWarning: Truncated File Read\n",
            "  warnings.warn(str(msg))\n",
            "/usr/local/lib/python3.11/dist-packages/PIL/JpegImagePlugin.py:890: UserWarning: Image appears to be a malformed MPO file, it will be interpreted as a base JPEG file\n",
            "  warnings.warn(\n"
          ]
        },
        {
          "output_type": "stream",
          "name": "stdout",
          "text": [
            "  [Batch 0] Loss: 0.2381\n"
          ]
        },
        {
          "output_type": "stream",
          "name": "stderr",
          "text": [
            "/usr/local/lib/python3.11/dist-packages/PIL/Image.py:3402: DecompressionBombWarning: Image size (108000000 pixels) exceeds limit of 89478485 pixels, could be decompression bomb DOS attack.\n",
            "  warnings.warn(\n"
          ]
        },
        {
          "output_type": "stream",
          "name": "stdout",
          "text": [
            "  [Batch 10] Loss: 0.3674\n",
            "  [Batch 20] Loss: 0.1650\n",
            "  [Batch 30] Loss: 0.1597\n"
          ]
        },
        {
          "output_type": "stream",
          "name": "stderr",
          "text": [
            "/usr/local/lib/python3.11/dist-packages/PIL/TiffImagePlugin.py:949: UserWarning: Truncated File Read\n",
            "  warnings.warn(str(msg))\n",
            "/usr/local/lib/python3.11/dist-packages/PIL/JpegImagePlugin.py:890: UserWarning: Image appears to be a malformed MPO file, it will be interpreted as a base JPEG file\n",
            "  warnings.warn(\n"
          ]
        },
        {
          "output_type": "stream",
          "name": "stdout",
          "text": [
            "  [Batch 40] Loss: 0.2908\n",
            "  [Batch 50] Loss: 0.2021\n",
            "  [Batch 60] Loss: 0.1495\n",
            "  Train Loss: 0.2331, Train Acc: 0.9165\n",
            "  Val Loss: 0.7126, Val Acc: 0.7649\n",
            "  No improvement. (1/3)\n",
            "\n",
            "Epoch 8/15\n"
          ]
        },
        {
          "output_type": "stream",
          "name": "stderr",
          "text": [
            "/usr/local/lib/python3.11/dist-packages/PIL/Image.py:3402: DecompressionBombWarning: Image size (108000000 pixels) exceeds limit of 89478485 pixels, could be decompression bomb DOS attack.\n",
            "  warnings.warn(\n"
          ]
        },
        {
          "output_type": "stream",
          "name": "stdout",
          "text": [
            "  [Batch 0] Loss: 0.2328\n"
          ]
        },
        {
          "output_type": "stream",
          "name": "stderr",
          "text": [
            "/usr/local/lib/python3.11/dist-packages/PIL/Image.py:3402: DecompressionBombWarning: Image size (108000000 pixels) exceeds limit of 89478485 pixels, could be decompression bomb DOS attack.\n",
            "  warnings.warn(\n",
            "/usr/local/lib/python3.11/dist-packages/PIL/TiffImagePlugin.py:949: UserWarning: Truncated File Read\n",
            "  warnings.warn(str(msg))\n",
            "/usr/local/lib/python3.11/dist-packages/PIL/JpegImagePlugin.py:890: UserWarning: Image appears to be a malformed MPO file, it will be interpreted as a base JPEG file\n",
            "  warnings.warn(\n"
          ]
        },
        {
          "output_type": "stream",
          "name": "stdout",
          "text": [
            "  [Batch 10] Loss: 0.1658\n",
            "  [Batch 20] Loss: 0.2855\n",
            "  [Batch 30] Loss: 0.2270\n",
            "  [Batch 40] Loss: 0.1550\n"
          ]
        },
        {
          "output_type": "stream",
          "name": "stderr",
          "text": [
            "/usr/local/lib/python3.11/dist-packages/PIL/TiffImagePlugin.py:949: UserWarning: Truncated File Read\n",
            "  warnings.warn(str(msg))\n",
            "/usr/local/lib/python3.11/dist-packages/PIL/JpegImagePlugin.py:890: UserWarning: Image appears to be a malformed MPO file, it will be interpreted as a base JPEG file\n",
            "  warnings.warn(\n"
          ]
        },
        {
          "output_type": "stream",
          "name": "stdout",
          "text": [
            "  [Batch 50] Loss: 0.0991\n",
            "  [Batch 60] Loss: 0.3744\n",
            "  Train Loss: 0.1941, Train Acc: 0.9309\n",
            "  Val Loss: 0.6863, Val Acc: 0.7842\n",
            "  Improvement detected, saving model...\n",
            "\n",
            "Epoch 9/15\n"
          ]
        },
        {
          "output_type": "stream",
          "name": "stderr",
          "text": [
            "/usr/local/lib/python3.11/dist-packages/PIL/TiffImagePlugin.py:949: UserWarning: Truncated File Read\n",
            "  warnings.warn(str(msg))\n",
            "/usr/local/lib/python3.11/dist-packages/PIL/JpegImagePlugin.py:890: UserWarning: Image appears to be a malformed MPO file, it will be interpreted as a base JPEG file\n",
            "  warnings.warn(\n"
          ]
        },
        {
          "output_type": "stream",
          "name": "stdout",
          "text": [
            "  [Batch 0] Loss: 0.1763\n",
            "  [Batch 10] Loss: 0.2618\n",
            "  [Batch 20] Loss: 0.2001\n",
            "  [Batch 30] Loss: 0.1444\n",
            "  [Batch 40] Loss: 0.0941\n",
            "  [Batch 50] Loss: 0.1318\n",
            "  [Batch 60] Loss: 0.1053\n",
            "  Train Loss: 0.1738, Train Acc: 0.9370\n",
            "  Val Loss: 0.7081, Val Acc: 0.7741\n",
            "  No improvement. (1/3)\n",
            "\n",
            "Epoch 10/15\n",
            "  [Batch 0] Loss: 0.2084\n",
            "  [Batch 10] Loss: 0.3000\n",
            "  [Batch 20] Loss: 0.2942\n"
          ]
        },
        {
          "output_type": "stream",
          "name": "stderr",
          "text": [
            "/usr/local/lib/python3.11/dist-packages/PIL/TiffImagePlugin.py:949: UserWarning: Truncated File Read\n",
            "  warnings.warn(str(msg))\n",
            "/usr/local/lib/python3.11/dist-packages/PIL/JpegImagePlugin.py:890: UserWarning: Image appears to be a malformed MPO file, it will be interpreted as a base JPEG file\n",
            "  warnings.warn(\n"
          ]
        },
        {
          "output_type": "stream",
          "name": "stdout",
          "text": [
            "  [Batch 30] Loss: 0.1059\n"
          ]
        },
        {
          "output_type": "stream",
          "name": "stderr",
          "text": [
            "/usr/local/lib/python3.11/dist-packages/PIL/TiffImagePlugin.py:949: UserWarning: Truncated File Read\n",
            "  warnings.warn(str(msg))\n",
            "/usr/local/lib/python3.11/dist-packages/PIL/JpegImagePlugin.py:890: UserWarning: Image appears to be a malformed MPO file, it will be interpreted as a base JPEG file\n",
            "  warnings.warn(\n"
          ]
        },
        {
          "output_type": "stream",
          "name": "stdout",
          "text": [
            "  [Batch 40] Loss: 0.0840\n",
            "  [Batch 50] Loss: 0.2424\n"
          ]
        },
        {
          "output_type": "stream",
          "name": "stderr",
          "text": [
            "/usr/local/lib/python3.11/dist-packages/PIL/Image.py:3402: DecompressionBombWarning: Image size (108000000 pixels) exceeds limit of 89478485 pixels, could be decompression bomb DOS attack.\n",
            "  warnings.warn(\n",
            "/usr/local/lib/python3.11/dist-packages/PIL/Image.py:3402: DecompressionBombWarning: Image size (99050169 pixels) exceeds limit of 89478485 pixels, could be decompression bomb DOS attack.\n",
            "  warnings.warn(\n"
          ]
        },
        {
          "output_type": "stream",
          "name": "stdout",
          "text": [
            "  [Batch 60] Loss: 0.1671\n",
            "  Train Loss: 0.1535, Train Acc: 0.9478\n",
            "  Val Loss: 0.6574, Val Acc: 0.7926\n",
            "  Improvement detected, saving model...\n",
            "\n",
            "Epoch 11/15\n"
          ]
        },
        {
          "output_type": "stream",
          "name": "stderr",
          "text": [
            "/usr/local/lib/python3.11/dist-packages/PIL/Image.py:3402: DecompressionBombWarning: Image size (108000000 pixels) exceeds limit of 89478485 pixels, could be decompression bomb DOS attack.\n",
            "  warnings.warn(\n",
            "/usr/local/lib/python3.11/dist-packages/PIL/Image.py:3402: DecompressionBombWarning: Image size (108000000 pixels) exceeds limit of 89478485 pixels, could be decompression bomb DOS attack.\n",
            "  warnings.warn(\n"
          ]
        },
        {
          "output_type": "stream",
          "name": "stdout",
          "text": [
            "  [Batch 0] Loss: 0.0865\n",
            "  [Batch 10] Loss: 0.0438\n"
          ]
        },
        {
          "output_type": "stream",
          "name": "stderr",
          "text": [
            "/usr/local/lib/python3.11/dist-packages/PIL/TiffImagePlugin.py:949: UserWarning: Truncated File Read\n",
            "  warnings.warn(str(msg))\n",
            "/usr/local/lib/python3.11/dist-packages/PIL/JpegImagePlugin.py:890: UserWarning: Image appears to be a malformed MPO file, it will be interpreted as a base JPEG file\n",
            "  warnings.warn(\n",
            "/usr/local/lib/python3.11/dist-packages/PIL/TiffImagePlugin.py:949: UserWarning: Truncated File Read\n",
            "  warnings.warn(str(msg))\n",
            "/usr/local/lib/python3.11/dist-packages/PIL/JpegImagePlugin.py:890: UserWarning: Image appears to be a malformed MPO file, it will be interpreted as a base JPEG file\n",
            "  warnings.warn(\n"
          ]
        },
        {
          "output_type": "stream",
          "name": "stdout",
          "text": [
            "  [Batch 20] Loss: 0.1173\n",
            "  [Batch 30] Loss: 0.1368\n",
            "  [Batch 40] Loss: 0.1993\n",
            "  [Batch 50] Loss: 0.1035\n",
            "  [Batch 60] Loss: 0.1419\n",
            "  Train Loss: 0.1322, Train Acc: 0.9545\n",
            "  Val Loss: 0.6780, Val Acc: 0.7834\n",
            "  No improvement. (1/3)\n",
            "\n",
            "Epoch 12/15\n"
          ]
        },
        {
          "output_type": "stream",
          "name": "stderr",
          "text": [
            "/usr/local/lib/python3.11/dist-packages/PIL/TiffImagePlugin.py:949: UserWarning: Truncated File Read\n",
            "  warnings.warn(str(msg))\n",
            "/usr/local/lib/python3.11/dist-packages/PIL/JpegImagePlugin.py:890: UserWarning: Image appears to be a malformed MPO file, it will be interpreted as a base JPEG file\n",
            "  warnings.warn(\n",
            "/usr/local/lib/python3.11/dist-packages/PIL/Image.py:3402: DecompressionBombWarning: Image size (108000000 pixels) exceeds limit of 89478485 pixels, could be decompression bomb DOS attack.\n",
            "  warnings.warn(\n"
          ]
        },
        {
          "output_type": "stream",
          "name": "stdout",
          "text": [
            "  [Batch 0] Loss: 0.0931\n"
          ]
        },
        {
          "output_type": "stream",
          "name": "stderr",
          "text": [
            "/usr/local/lib/python3.11/dist-packages/PIL/TiffImagePlugin.py:949: UserWarning: Truncated File Read\n",
            "  warnings.warn(str(msg))\n",
            "/usr/local/lib/python3.11/dist-packages/PIL/JpegImagePlugin.py:890: UserWarning: Image appears to be a malformed MPO file, it will be interpreted as a base JPEG file\n",
            "  warnings.warn(\n"
          ]
        },
        {
          "output_type": "stream",
          "name": "stdout",
          "text": [
            "  [Batch 10] Loss: 0.1258\n",
            "  [Batch 20] Loss: 0.1383\n",
            "  [Batch 30] Loss: 0.1996\n",
            "  [Batch 40] Loss: 0.0915\n",
            "  [Batch 50] Loss: 0.1465\n"
          ]
        },
        {
          "output_type": "stream",
          "name": "stderr",
          "text": [
            "/usr/local/lib/python3.11/dist-packages/PIL/Image.py:3402: DecompressionBombWarning: Image size (108000000 pixels) exceeds limit of 89478485 pixels, could be decompression bomb DOS attack.\n",
            "  warnings.warn(\n"
          ]
        },
        {
          "output_type": "stream",
          "name": "stdout",
          "text": [
            "  [Batch 60] Loss: 0.1477\n",
            "  Train Loss: 0.1263, Train Acc: 0.9586\n",
            "  Val Loss: 0.6848, Val Acc: 0.7935\n",
            "  Improvement detected, saving model...\n",
            "\n",
            "Epoch 13/15\n"
          ]
        },
        {
          "output_type": "stream",
          "name": "stderr",
          "text": [
            "/usr/local/lib/python3.11/dist-packages/PIL/TiffImagePlugin.py:949: UserWarning: Truncated File Read\n",
            "  warnings.warn(str(msg))\n",
            "/usr/local/lib/python3.11/dist-packages/PIL/TiffImagePlugin.py:949: UserWarning: Truncated File Read\n",
            "  warnings.warn(str(msg))\n",
            "/usr/local/lib/python3.11/dist-packages/PIL/JpegImagePlugin.py:890: UserWarning: Image appears to be a malformed MPO file, it will be interpreted as a base JPEG file\n",
            "  warnings.warn(\n",
            "/usr/local/lib/python3.11/dist-packages/PIL/JpegImagePlugin.py:890: UserWarning: Image appears to be a malformed MPO file, it will be interpreted as a base JPEG file\n",
            "  warnings.warn(\n"
          ]
        },
        {
          "output_type": "stream",
          "name": "stdout",
          "text": [
            "  [Batch 0] Loss: 0.1603\n",
            "  [Batch 10] Loss: 0.2046\n",
            "  [Batch 20] Loss: 0.0961\n"
          ]
        },
        {
          "output_type": "stream",
          "name": "stderr",
          "text": [
            "/usr/local/lib/python3.11/dist-packages/PIL/Image.py:3402: DecompressionBombWarning: Image size (108000000 pixels) exceeds limit of 89478485 pixels, could be decompression bomb DOS attack.\n",
            "  warnings.warn(\n"
          ]
        },
        {
          "output_type": "stream",
          "name": "stdout",
          "text": [
            "  [Batch 30] Loss: 0.1071\n",
            "  [Batch 40] Loss: 0.1075\n",
            "  [Batch 50] Loss: 0.0495\n"
          ]
        },
        {
          "output_type": "stream",
          "name": "stderr",
          "text": [
            "/usr/local/lib/python3.11/dist-packages/PIL/Image.py:3402: DecompressionBombWarning: Image size (108000000 pixels) exceeds limit of 89478485 pixels, could be decompression bomb DOS attack.\n",
            "  warnings.warn(\n"
          ]
        },
        {
          "output_type": "stream",
          "name": "stdout",
          "text": [
            "  [Batch 60] Loss: 0.0421\n",
            "  Train Loss: 0.1068, Train Acc: 0.9653\n",
            "  Val Loss: 0.6809, Val Acc: 0.7809\n",
            "  No improvement. (1/3)\n",
            "\n",
            "Epoch 14/15\n",
            "  [Batch 0] Loss: 0.0641\n"
          ]
        },
        {
          "output_type": "stream",
          "name": "stderr",
          "text": [
            "/usr/local/lib/python3.11/dist-packages/PIL/Image.py:3402: DecompressionBombWarning: Image size (108000000 pixels) exceeds limit of 89478485 pixels, could be decompression bomb DOS attack.\n",
            "  warnings.warn(\n"
          ]
        },
        {
          "output_type": "stream",
          "name": "stdout",
          "text": [
            "  [Batch 10] Loss: 0.0817\n"
          ]
        },
        {
          "output_type": "stream",
          "name": "stderr",
          "text": [
            "/usr/local/lib/python3.11/dist-packages/PIL/TiffImagePlugin.py:949: UserWarning: Truncated File Read\n",
            "  warnings.warn(str(msg))\n",
            "/usr/local/lib/python3.11/dist-packages/PIL/JpegImagePlugin.py:890: UserWarning: Image appears to be a malformed MPO file, it will be interpreted as a base JPEG file\n",
            "  warnings.warn(\n"
          ]
        },
        {
          "output_type": "stream",
          "name": "stdout",
          "text": [
            "  [Batch 20] Loss: 0.0902\n",
            "  [Batch 30] Loss: 0.0392\n",
            "  [Batch 40] Loss: 0.1625\n"
          ]
        },
        {
          "output_type": "stream",
          "name": "stderr",
          "text": [
            "/usr/local/lib/python3.11/dist-packages/PIL/TiffImagePlugin.py:949: UserWarning: Truncated File Read\n",
            "  warnings.warn(str(msg))\n",
            "/usr/local/lib/python3.11/dist-packages/PIL/JpegImagePlugin.py:890: UserWarning: Image appears to be a malformed MPO file, it will be interpreted as a base JPEG file\n",
            "  warnings.warn(\n"
          ]
        },
        {
          "output_type": "stream",
          "name": "stdout",
          "text": [
            "  [Batch 50] Loss: 0.0701\n"
          ]
        },
        {
          "output_type": "stream",
          "name": "stderr",
          "text": [
            "/usr/local/lib/python3.11/dist-packages/PIL/Image.py:3402: DecompressionBombWarning: Image size (108000000 pixels) exceeds limit of 89478485 pixels, could be decompression bomb DOS attack.\n",
            "  warnings.warn(\n"
          ]
        },
        {
          "output_type": "stream",
          "name": "stdout",
          "text": [
            "  [Batch 60] Loss: 0.1406\n",
            "  Train Loss: 0.1132, Train Acc: 0.9599\n",
            "  Val Loss: 0.6783, Val Acc: 0.7867\n",
            "  No improvement. (2/3)\n",
            "\n",
            "Epoch 15/15\n"
          ]
        },
        {
          "output_type": "stream",
          "name": "stderr",
          "text": [
            "/usr/local/lib/python3.11/dist-packages/PIL/TiffImagePlugin.py:949: UserWarning: Truncated File Read\n",
            "  warnings.warn(str(msg))\n",
            "/usr/local/lib/python3.11/dist-packages/PIL/JpegImagePlugin.py:890: UserWarning: Image appears to be a malformed MPO file, it will be interpreted as a base JPEG file\n",
            "  warnings.warn(\n",
            "/usr/local/lib/python3.11/dist-packages/PIL/TiffImagePlugin.py:949: UserWarning: Truncated File Read\n",
            "  warnings.warn(str(msg))\n",
            "/usr/local/lib/python3.11/dist-packages/PIL/JpegImagePlugin.py:890: UserWarning: Image appears to be a malformed MPO file, it will be interpreted as a base JPEG file\n",
            "  warnings.warn(\n"
          ]
        },
        {
          "output_type": "stream",
          "name": "stdout",
          "text": [
            "  [Batch 0] Loss: 0.1518\n",
            "  [Batch 10] Loss: 0.0971\n"
          ]
        },
        {
          "output_type": "stream",
          "name": "stderr",
          "text": [
            "/usr/local/lib/python3.11/dist-packages/PIL/Image.py:3402: DecompressionBombWarning: Image size (108000000 pixels) exceeds limit of 89478485 pixels, could be decompression bomb DOS attack.\n",
            "  warnings.warn(\n"
          ]
        },
        {
          "output_type": "stream",
          "name": "stdout",
          "text": [
            "  [Batch 20] Loss: 0.0971\n"
          ]
        },
        {
          "output_type": "stream",
          "name": "stderr",
          "text": [
            "/usr/local/lib/python3.11/dist-packages/PIL/Image.py:3402: DecompressionBombWarning: Image size (108000000 pixels) exceeds limit of 89478485 pixels, could be decompression bomb DOS attack.\n",
            "  warnings.warn(\n"
          ]
        },
        {
          "output_type": "stream",
          "name": "stdout",
          "text": [
            "  [Batch 30] Loss: 0.1572\n",
            "  [Batch 40] Loss: 0.1109\n",
            "  [Batch 50] Loss: 0.0734\n",
            "  [Batch 60] Loss: 0.1872\n",
            "  Train Loss: 0.1194, Train Acc: 0.9604\n",
            "  Val Loss: 0.6767, Val Acc: 0.7825\n",
            "  No improvement. (3/3)\n",
            "Early stopping triggered.\n",
            "\n",
            "Evaluating model on test set...\n",
            "  Processed batch 0\n",
            "  Processed batch 5\n",
            "  Processed batch 10\n",
            "  Processed batch 15\n",
            "\n",
            "Test Results — Loss: 0.6767, Acc: 0.7825, Balanced Acc: 0.7937\n",
            "Saving confusion matrix plot to: /content/drive/MyDrive/temple_classification_output/confusion_matrix_balanced.png\n",
            "Plot saved.\n"
          ]
        }
      ]
    },
    {
      "cell_type": "code",
      "source": [
        "import seaborn as sns\n",
        "import matplotlib.pyplot as plt\n",
        "import numpy as np\n",
        "\n",
        "plt.figure(figsize=(10, 8))\n",
        "sns.heatmap(balanced_cm, annot=True, fmt='.2f', cmap='Blues',\n",
        "            xticklabels=all_classes, yticklabels=all_classes,\n",
        "            cbar=True, square=True)\n",
        "\n",
        "plt.xlabel('Predicted Labels')\n",
        "plt.ylabel('True Labels')\n",
        "plt.title(f'Balanced Training Confusion Matrix (Balanced Acc: {balanced_balanced_acc:.4f})')\n",
        "plt.xticks(rotation=45, ha='right')\n",
        "plt.yticks(rotation=0)\n",
        "plt.tight_layout()\n",
        "\n",
        "plt.savefig(os.path.join(output_dir, 'confusion_matrix_balanced_seaborn.png'))\n",
        "plt.show()\n"
      ],
      "metadata": {
        "colab": {
          "base_uri": "https://localhost:8080/",
          "height": 807
        },
        "id": "nPJD7om6SoZD",
        "outputId": "33aa6fc2-9409-4afc-9587-a3d5423bae56"
      },
      "execution_count": 28,
      "outputs": [
        {
          "output_type": "display_data",
          "data": {
            "text/plain": [
              "<Figure size 1000x800 with 2 Axes>"
            ],
            "image/png": "[encoded data removed]"
          },
          "metadata": {}
        }
      ]
    },
    {
      "cell_type": "code",
      "source": [
        "print(\"# 12. Create high resolution datasets\")\n",
        "\n",
        "# Create high-res datasets using the existing directories\n",
        "print(\"Loading high-resolution datasets...\")\n",
        "high_res_train_dataset = ImageFolder(root=train_dir, transform=train_transform_high_res)\n",
        "high_res_val_dataset = ImageFolder(root=val_dir, transform=train_transform_high_res)\n",
        "high_res_test_dataset = ImageFolder(root=test_dir, transform=val_transform_high_res)\n",
        "\n",
        "print(f\"  -> Train images: {len(high_res_train_dataset)}\")\n",
        "print(f\"  -> Validation images: {len(high_res_val_dataset)}\")\n",
        "print(f\"  -> Test images: {len(high_res_test_dataset)}\")\n",
        "\n",
        "# Combine train and val for final training\n",
        "high_res_combined_dataset = torch.utils.data.ConcatDataset([high_res_train_dataset, high_res_val_dataset])\n",
        "print(f\"  -> Combined train + val images: {len(high_res_combined_dataset)}\")\n",
        "\n",
        "# Calculate class weights for balanced sampling\n",
        "print(\"Calculating class weights for balanced sampling...\")\n",
        "high_res_class_counts = [0] * len(all_classes)\n",
        "for dataset in [high_res_train_dataset, high_res_val_dataset]:\n",
        "    for _, label in dataset.samples:\n",
        "        high_res_class_counts[label] += 1\n",
        "\n",
        "for idx, count in enumerate(high_res_class_counts):\n",
        "    print(f\"    - Class '{all_classes[idx]}': {count} samples\")\n",
        "\n",
        "high_res_class_weights = [1.0 / count for count in high_res_class_counts]\n",
        "\n",
        "# Create sample weights\n",
        "print(\"Creating sample weights...\")\n",
        "high_res_sample_weights = []\n",
        "for dataset in [high_res_train_dataset, high_res_val_dataset]:\n",
        "    high_res_sample_weights.extend([high_res_class_weights[label] for _, label in dataset.samples])\n",
        "\n",
        "print(\"Initializing balanced sampler and dataloaders...\")\n",
        "high_res_sampler = WeightedRandomSampler(weights=high_res_sample_weights, num_samples=len(high_res_combined_dataset), replacement=True)\n",
        "\n",
        "# OPTIMIZATION: Use moderate batch size for high resolution\n",
        "high_res_batch_size = 32\n",
        "balanced_high_res_loader = DataLoader(high_res_combined_dataset, batch_size=high_res_batch_size, sampler=high_res_sampler, num_workers=2, pin_memory=True)\n",
        "high_res_test_loader = DataLoader(high_res_test_dataset, batch_size=high_res_batch_size, shuffle=False, num_workers=2, pin_memory=True)\n",
        "\n",
        "print(\"High-res datasets and dataloaders are ready ✅\\n\")\n"
      ],
      "metadata": {
        "colab": {
          "base_uri": "https://localhost:8080/"
        },
        "id": "m1Yfvh8GZWEc",
        "outputId": "a5547dfb-87fa-4c88-ae08-dc1316113de1"
      },
      "execution_count": 29,
      "outputs": [
        {
          "output_type": "stream",
          "name": "stdout",
          "text": [
            "# 12. Create high resolution datasets\n",
            "Loading high-resolution datasets...\n",
            "  -> Train images: 3489\n",
            "  -> Validation images: 955\n",
            "  -> Test images: 1191\n",
            "  -> Combined train + val images: 4444\n",
            "Calculating class weights for balanced sampling...\n",
            "    - Class 'church_romanesque': 871 samples\n",
            "    - Class 'church_modern': 113 samples\n",
            "    - Class 'church_gothic': 985 samples\n",
            "    - Class 'church_byzantine': 407 samples\n",
            "    - Class 'church_baroque': 776 samples\n",
            "    - Class 'mosque_turkish': 373 samples\n",
            "    - Class 'mosque_persian': 379 samples\n",
            "    - Class 'mosque_arabic': 540 samples\n",
            "Creating sample weights...\n",
            "Initializing balanced sampler and dataloaders...\n",
            "High-res datasets and dataloaders are ready ✅\n",
            "\n"
          ]
        }
      ]
    },
    {
      "cell_type": "code",
      "source": [
        "# 13. Train Balanced + High Resolution model\n",
        "balanced_high_res_model = create_efficientnet_model()\n",
        "optimizer = optim.SGD(balanced_high_res_model.parameters(),\n",
        "                     lr=best_params['lr'],\n",
        "                     momentum=0.9,\n",
        "                     weight_decay=best_params['weight_decay'])\n",
        "scheduler = CosineAnnealingLR(optimizer, T_max=15)\n",
        "\n",
        "print(\"Training balanced high resolution model (EfficientNet-B0, 224x224, Balanced)\")\n",
        "balanced_high_res_model, balanced_high_res_history = train_model(\n",
        "    balanced_high_res_model,\n",
        "    balanced_high_res_loader,\n",
        "    high_res_test_loader,\n",
        "    criterion,\n",
        "    optimizer,\n",
        "    scheduler,\n",
        "    num_epochs=15,\n",
        "    patience=3\n",
        ")\n",
        "\n",
        "balanced_high_res_results = evaluate_model(balanced_high_res_model, high_res_test_loader, criterion)\n",
        "_, _, balanced_high_res_balanced_acc, balanced_high_res_cm, balanced_high_res_preds, balanced_high_res_labels = balanced_high_res_results\n",
        "\n",
        "plot_confusion_matrix(\n",
        "    balanced_high_res_cm,\n",
        "    all_classes,\n",
        "    f'Balanced High Resolution Confusion Matrix (Balanced Acc: {balanced_high_res_balanced_acc:.4f})',\n",
        "    os.path.join(output_dir, 'confusion_matrix_balanced_high_res.png')\n",
        ")\n"
      ],
      "metadata": {
        "colab": {
          "base_uri": "https://localhost:8080/"
        },
        "id": "mv30WhkfZnWL",
        "outputId": "8f959698-eb7b-4b15-8a3e-c5a6054a0b42"
      },
      "execution_count": 30,
      "outputs": [
        {
          "output_type": "stream",
          "name": "stdout",
          "text": [
            "Training balanced high resolution model (EfficientNet-B0, 224x224, Balanced)\n",
            "Starting training...\n",
            "\n",
            "Epoch 1/15\n",
            "  [Batch 0] Loss: 3.5691\n",
            "  [Batch 10] Loss: 2.1182\n",
            "  [Batch 20] Loss: 2.0766\n",
            "  [Batch 30] Loss: 1.4107\n",
            "  [Batch 40] Loss: 1.6606\n",
            "  [Batch 50] Loss: 1.2366\n",
            "  [Batch 60] Loss: 0.7815\n"
          ]
        },
        {
          "output_type": "stream",
          "name": "stderr",
          "text": [
            "/usr/local/lib/python3.11/dist-packages/PIL/Image.py:3402: DecompressionBombWarning: Image size (108000000 pixels) exceeds limit of 89478485 pixels, could be decompression bomb DOS attack.\n",
            "  warnings.warn(\n",
            "/usr/local/lib/python3.11/dist-packages/PIL/Image.py:3402: DecompressionBombWarning: Image size (102240660 pixels) exceeds limit of 89478485 pixels, could be decompression bomb DOS attack.\n",
            "  warnings.warn(\n"
          ]
        },
        {
          "output_type": "stream",
          "name": "stdout",
          "text": [
            "  [Batch 70] Loss: 1.1328\n",
            "  [Batch 80] Loss: 1.4131\n",
            "  [Batch 90] Loss: 1.2675\n"
          ]
        },
        {
          "output_type": "stream",
          "name": "stderr",
          "text": [
            "/usr/local/lib/python3.11/dist-packages/PIL/TiffImagePlugin.py:949: UserWarning: Truncated File Read\n",
            "  warnings.warn(str(msg))\n",
            "/usr/local/lib/python3.11/dist-packages/PIL/JpegImagePlugin.py:890: UserWarning: Image appears to be a malformed MPO file, it will be interpreted as a base JPEG file\n",
            "  warnings.warn(\n"
          ]
        },
        {
          "output_type": "stream",
          "name": "stdout",
          "text": [
            "  [Batch 100] Loss: 0.7714\n",
            "  [Batch 110] Loss: 0.9327\n"
          ]
        },
        {
          "output_type": "stream",
          "name": "stderr",
          "text": [
            "/usr/local/lib/python3.11/dist-packages/PIL/Image.py:3402: DecompressionBombWarning: Image size (95761000 pixels) exceeds limit of 89478485 pixels, could be decompression bomb DOS attack.\n",
            "  warnings.warn(\n",
            "/usr/local/lib/python3.11/dist-packages/PIL/TiffImagePlugin.py:949: UserWarning: Truncated File Read\n",
            "  warnings.warn(str(msg))\n",
            "/usr/local/lib/python3.11/dist-packages/PIL/JpegImagePlugin.py:890: UserWarning: Image appears to be a malformed MPO file, it will be interpreted as a base JPEG file\n",
            "  warnings.warn(\n"
          ]
        },
        {
          "output_type": "stream",
          "name": "stdout",
          "text": [
            "  [Batch 120] Loss: 0.5621\n",
            "  [Batch 130] Loss: 0.8259\n",
            "  Train Loss: 1.4765, Train Acc: 0.5531\n",
            "  Val Loss: 0.9510, Val Acc: 0.6558\n",
            "  Improvement detected, saving model...\n",
            "\n",
            "Epoch 2/15\n",
            "  [Batch 0] Loss: 0.8692\n",
            "  [Batch 10] Loss: 0.8354\n"
          ]
        },
        {
          "output_type": "stream",
          "name": "stderr",
          "text": [
            "/usr/local/lib/python3.11/dist-packages/PIL/Image.py:3402: DecompressionBombWarning: Image size (108000000 pixels) exceeds limit of 89478485 pixels, could be decompression bomb DOS attack.\n",
            "  warnings.warn(\n"
          ]
        },
        {
          "output_type": "stream",
          "name": "stdout",
          "text": [
            "  [Batch 20] Loss: 1.0574\n",
            "  [Batch 30] Loss: 1.0492\n",
            "  [Batch 40] Loss: 0.6637\n",
            "  [Batch 50] Loss: 0.8691\n",
            "  [Batch 60] Loss: 0.6824\n",
            "  [Batch 70] Loss: 0.5567\n",
            "  [Batch 80] Loss: 0.4647\n",
            "  [Batch 90] Loss: 0.9824\n"
          ]
        },
        {
          "output_type": "stream",
          "name": "stderr",
          "text": [
            "/usr/local/lib/python3.11/dist-packages/PIL/TiffImagePlugin.py:949: UserWarning: Truncated File Read\n",
            "  warnings.warn(str(msg))\n",
            "/usr/local/lib/python3.11/dist-packages/PIL/JpegImagePlugin.py:890: UserWarning: Image appears to be a malformed MPO file, it will be interpreted as a base JPEG file\n",
            "  warnings.warn(\n"
          ]
        },
        {
          "output_type": "stream",
          "name": "stdout",
          "text": [
            "  [Batch 100] Loss: 0.3619\n",
            "  [Batch 110] Loss: 0.5132\n"
          ]
        },
        {
          "output_type": "stream",
          "name": "stderr",
          "text": [
            "/usr/local/lib/python3.11/dist-packages/PIL/TiffImagePlugin.py:949: UserWarning: Truncated File Read\n",
            "  warnings.warn(str(msg))\n",
            "/usr/local/lib/python3.11/dist-packages/PIL/JpegImagePlugin.py:890: UserWarning: Image appears to be a malformed MPO file, it will be interpreted as a base JPEG file\n",
            "  warnings.warn(\n"
          ]
        },
        {
          "output_type": "stream",
          "name": "stdout",
          "text": [
            "  [Batch 120] Loss: 0.9373\n",
            "  [Batch 130] Loss: 0.7854\n",
            "  Train Loss: 0.7123, Train Acc: 0.7525\n",
            "  Val Loss: 0.8968, Val Acc: 0.7028\n",
            "  Improvement detected, saving model...\n",
            "\n",
            "Epoch 3/15\n",
            "  [Batch 0] Loss: 0.3515\n",
            "  [Batch 10] Loss: 0.5031\n",
            "  [Batch 20] Loss: 0.7041\n",
            "  [Batch 30] Loss: 0.5235\n",
            "  [Batch 40] Loss: 0.3710\n",
            "  [Batch 50] Loss: 0.6473\n",
            "  [Batch 60] Loss: 0.5498\n",
            "  [Batch 70] Loss: 0.7174\n",
            "  [Batch 80] Loss: 0.5140\n",
            "  [Batch 90] Loss: 0.3576\n",
            "  [Batch 100] Loss: 0.5409\n",
            "  [Batch 110] Loss: 0.3720\n",
            "  [Batch 120] Loss: 1.1482\n",
            "  [Batch 130] Loss: 0.4969\n",
            "  Train Loss: 0.5087, Train Acc: 0.8276\n",
            "  Val Loss: 0.7247, Val Acc: 0.7481\n",
            "  Improvement detected, saving model...\n",
            "\n",
            "Epoch 4/15\n",
            "  [Batch 0] Loss: 0.2564\n",
            "  [Batch 10] Loss: 0.3135\n"
          ]
        },
        {
          "output_type": "stream",
          "name": "stderr",
          "text": [
            "/usr/local/lib/python3.11/dist-packages/PIL/TiffImagePlugin.py:949: UserWarning: Truncated File Read\n",
            "  warnings.warn(str(msg))\n",
            "/usr/local/lib/python3.11/dist-packages/PIL/JpegImagePlugin.py:890: UserWarning: Image appears to be a malformed MPO file, it will be interpreted as a base JPEG file\n",
            "  warnings.warn(\n"
          ]
        },
        {
          "output_type": "stream",
          "name": "stdout",
          "text": [
            "  [Batch 20] Loss: 0.6676\n",
            "  [Batch 30] Loss: 0.3630\n"
          ]
        },
        {
          "output_type": "stream",
          "name": "stderr",
          "text": [
            "/usr/local/lib/python3.11/dist-packages/PIL/Image.py:3402: DecompressionBombWarning: Image size (108000000 pixels) exceeds limit of 89478485 pixels, could be decompression bomb DOS attack.\n",
            "  warnings.warn(\n"
          ]
        },
        {
          "output_type": "stream",
          "name": "stdout",
          "text": [
            "  [Batch 40] Loss: 0.7690\n",
            "  [Batch 50] Loss: 0.5916\n",
            "  [Batch 60] Loss: 0.3479\n",
            "  [Batch 70] Loss: 0.2956\n",
            "  [Batch 80] Loss: 0.3606\n"
          ]
        },
        {
          "output_type": "stream",
          "name": "stderr",
          "text": [
            "/usr/local/lib/python3.11/dist-packages/PIL/TiffImagePlugin.py:949: UserWarning: Truncated File Read\n",
            "  warnings.warn(str(msg))\n",
            "/usr/local/lib/python3.11/dist-packages/PIL/JpegImagePlugin.py:890: UserWarning: Image appears to be a malformed MPO file, it will be interpreted as a base JPEG file\n",
            "  warnings.warn(\n"
          ]
        },
        {
          "output_type": "stream",
          "name": "stdout",
          "text": [
            "  [Batch 90] Loss: 0.4376\n",
            "  [Batch 100] Loss: 0.4942\n",
            "  [Batch 110] Loss: 0.3005\n"
          ]
        },
        {
          "output_type": "stream",
          "name": "stderr",
          "text": [
            "/usr/local/lib/python3.11/dist-packages/PIL/Image.py:3402: DecompressionBombWarning: Image size (108000000 pixels) exceeds limit of 89478485 pixels, could be decompression bomb DOS attack.\n",
            "  warnings.warn(\n"
          ]
        },
        {
          "output_type": "stream",
          "name": "stdout",
          "text": [
            "  [Batch 120] Loss: 0.6162\n",
            "  [Batch 130] Loss: 0.2408\n",
            "  Train Loss: 0.3918, Train Acc: 0.8616\n",
            "  Val Loss: 0.6930, Val Acc: 0.7599\n",
            "  Improvement detected, saving model...\n",
            "\n",
            "Epoch 5/15\n",
            "  [Batch 0] Loss: 0.2534\n",
            "  [Batch 10] Loss: 0.2838\n",
            "  [Batch 20] Loss: 0.3136\n"
          ]
        },
        {
          "output_type": "stream",
          "name": "stderr",
          "text": [
            "/usr/local/lib/python3.11/dist-packages/PIL/Image.py:3402: DecompressionBombWarning: Image size (108000000 pixels) exceeds limit of 89478485 pixels, could be decompression bomb DOS attack.\n",
            "  warnings.warn(\n"
          ]
        },
        {
          "output_type": "stream",
          "name": "stdout",
          "text": [
            "  [Batch 30] Loss: 0.4439\n",
            "  [Batch 40] Loss: 0.2199\n",
            "  [Batch 50] Loss: 0.1245\n"
          ]
        },
        {
          "output_type": "stream",
          "name": "stderr",
          "text": [
            "/usr/local/lib/python3.11/dist-packages/PIL/Image.py:3402: DecompressionBombWarning: Image size (108000000 pixels) exceeds limit of 89478485 pixels, could be decompression bomb DOS attack.\n",
            "  warnings.warn(\n"
          ]
        },
        {
          "output_type": "stream",
          "name": "stdout",
          "text": [
            "  [Batch 60] Loss: 0.2117\n",
            "  [Batch 70] Loss: 0.1499\n"
          ]
        },
        {
          "output_type": "stream",
          "name": "stderr",
          "text": [
            "/usr/local/lib/python3.11/dist-packages/PIL/TiffImagePlugin.py:949: UserWarning: Truncated File Read\n",
            "  warnings.warn(str(msg))\n",
            "/usr/local/lib/python3.11/dist-packages/PIL/JpegImagePlugin.py:890: UserWarning: Image appears to be a malformed MPO file, it will be interpreted as a base JPEG file\n",
            "  warnings.warn(\n"
          ]
        },
        {
          "output_type": "stream",
          "name": "stdout",
          "text": [
            "  [Batch 80] Loss: 0.1351\n",
            "  [Batch 90] Loss: 0.4468\n",
            "  [Batch 100] Loss: 0.3117\n",
            "  [Batch 110] Loss: 0.1954\n",
            "  [Batch 120] Loss: 0.3243\n",
            "  [Batch 130] Loss: 0.2742\n",
            "  Train Loss: 0.2959, Train Acc: 0.8933\n",
            "  Val Loss: 0.6577, Val Acc: 0.7758\n",
            "  Improvement detected, saving model...\n",
            "\n",
            "Epoch 6/15\n",
            "  [Batch 0] Loss: 0.2950\n"
          ]
        },
        {
          "output_type": "stream",
          "name": "stderr",
          "text": [
            "/usr/local/lib/python3.11/dist-packages/PIL/TiffImagePlugin.py:949: UserWarning: Truncated File Read\n",
            "  warnings.warn(str(msg))\n",
            "/usr/local/lib/python3.11/dist-packages/PIL/JpegImagePlugin.py:890: UserWarning: Image appears to be a malformed MPO file, it will be interpreted as a base JPEG file\n",
            "  warnings.warn(\n"
          ]
        },
        {
          "output_type": "stream",
          "name": "stdout",
          "text": [
            "  [Batch 10] Loss: 0.2525\n",
            "  [Batch 20] Loss: 0.2320\n",
            "  [Batch 30] Loss: 0.0838\n",
            "  [Batch 40] Loss: 0.3020\n",
            "  [Batch 50] Loss: 0.1541\n",
            "  [Batch 60] Loss: 0.4760\n"
          ]
        },
        {
          "output_type": "stream",
          "name": "stderr",
          "text": [
            "/usr/local/lib/python3.11/dist-packages/PIL/Image.py:3402: DecompressionBombWarning: Image size (108000000 pixels) exceeds limit of 89478485 pixels, could be decompression bomb DOS attack.\n",
            "  warnings.warn(\n"
          ]
        },
        {
          "output_type": "stream",
          "name": "stdout",
          "text": [
            "  [Batch 70] Loss: 0.1463\n",
            "  [Batch 80] Loss: 0.4003\n",
            "  [Batch 90] Loss: 0.1295\n",
            "  [Batch 100] Loss: 0.4118\n",
            "  [Batch 110] Loss: 0.2016\n",
            "  [Batch 120] Loss: 0.2960\n"
          ]
        },
        {
          "output_type": "stream",
          "name": "stderr",
          "text": [
            "/usr/local/lib/python3.11/dist-packages/PIL/Image.py:3402: DecompressionBombWarning: Image size (108000000 pixels) exceeds limit of 89478485 pixels, could be decompression bomb DOS attack.\n",
            "  warnings.warn(\n"
          ]
        },
        {
          "output_type": "stream",
          "name": "stdout",
          "text": [
            "  [Batch 130] Loss: 0.1434\n",
            "  Train Loss: 0.2535, Train Acc: 0.9129\n",
            "  Val Loss: 0.6720, Val Acc: 0.7918\n",
            "  Improvement detected, saving model...\n",
            "\n",
            "Epoch 7/15\n",
            "  [Batch 0] Loss: 0.1903\n",
            "  [Batch 10] Loss: 0.1905\n",
            "  [Batch 20] Loss: 0.4268\n"
          ]
        },
        {
          "output_type": "stream",
          "name": "stderr",
          "text": [
            "/usr/local/lib/python3.11/dist-packages/PIL/Image.py:3402: DecompressionBombWarning: Image size (108000000 pixels) exceeds limit of 89478485 pixels, could be decompression bomb DOS attack.\n",
            "  warnings.warn(\n"
          ]
        },
        {
          "output_type": "stream",
          "name": "stdout",
          "text": [
            "  [Batch 30] Loss: 0.0742\n",
            "  [Batch 40] Loss: 0.1780\n",
            "  [Batch 50] Loss: 0.4717\n",
            "  [Batch 60] Loss: 0.2834\n"
          ]
        },
        {
          "output_type": "stream",
          "name": "stderr",
          "text": [
            "/usr/local/lib/python3.11/dist-packages/PIL/TiffImagePlugin.py:949: UserWarning: Truncated File Read\n",
            "  warnings.warn(str(msg))\n",
            "/usr/local/lib/python3.11/dist-packages/PIL/JpegImagePlugin.py:890: UserWarning: Image appears to be a malformed MPO file, it will be interpreted as a base JPEG file\n",
            "  warnings.warn(\n",
            "/usr/local/lib/python3.11/dist-packages/PIL/TiffImagePlugin.py:949: UserWarning: Truncated File Read\n",
            "  warnings.warn(str(msg))\n",
            "/usr/local/lib/python3.11/dist-packages/PIL/JpegImagePlugin.py:890: UserWarning: Image appears to be a malformed MPO file, it will be interpreted as a base JPEG file\n",
            "  warnings.warn(\n"
          ]
        },
        {
          "output_type": "stream",
          "name": "stdout",
          "text": [
            "  [Batch 70] Loss: 0.1415\n",
            "  [Batch 80] Loss: 0.3414\n",
            "  [Batch 90] Loss: 0.1171\n",
            "  [Batch 100] Loss: 0.0616\n",
            "  [Batch 110] Loss: 0.2649\n",
            "  [Batch 120] Loss: 0.1609\n",
            "  [Batch 130] Loss: 0.1168\n",
            "  Train Loss: 0.1929, Train Acc: 0.9307\n",
            "  Val Loss: 0.6655, Val Acc: 0.7985\n",
            "  Improvement detected, saving model...\n",
            "\n",
            "Epoch 8/15\n",
            "  [Batch 0] Loss: 0.2850\n",
            "  [Batch 10] Loss: 0.1118\n",
            "  [Batch 20] Loss: 0.2298\n",
            "  [Batch 30] Loss: 0.1059\n",
            "  [Batch 40] Loss: 0.0962\n",
            "  [Batch 50] Loss: 0.1946\n",
            "  [Batch 60] Loss: 0.0655\n"
          ]
        },
        {
          "output_type": "stream",
          "name": "stderr",
          "text": [
            "/usr/local/lib/python3.11/dist-packages/PIL/TiffImagePlugin.py:949: UserWarning: Truncated File Read\n",
            "  warnings.warn(str(msg))\n",
            "/usr/local/lib/python3.11/dist-packages/PIL/JpegImagePlugin.py:890: UserWarning: Image appears to be a malformed MPO file, it will be interpreted as a base JPEG file\n",
            "  warnings.warn(\n"
          ]
        },
        {
          "output_type": "stream",
          "name": "stdout",
          "text": [
            "  [Batch 70] Loss: 0.0741\n",
            "  [Batch 80] Loss: 0.1599\n"
          ]
        },
        {
          "output_type": "stream",
          "name": "stderr",
          "text": [
            "/usr/local/lib/python3.11/dist-packages/PIL/Image.py:3402: DecompressionBombWarning: Image size (108000000 pixels) exceeds limit of 89478485 pixels, could be decompression bomb DOS attack.\n",
            "  warnings.warn(\n"
          ]
        },
        {
          "output_type": "stream",
          "name": "stdout",
          "text": [
            "  [Batch 90] Loss: 0.3193\n",
            "  [Batch 100] Loss: 0.0983\n"
          ]
        },
        {
          "output_type": "stream",
          "name": "stderr",
          "text": [
            "/usr/local/lib/python3.11/dist-packages/PIL/Image.py:3402: DecompressionBombWarning: Image size (108000000 pixels) exceeds limit of 89478485 pixels, could be decompression bomb DOS attack.\n",
            "  warnings.warn(\n"
          ]
        },
        {
          "output_type": "stream",
          "name": "stdout",
          "text": [
            "  [Batch 110] Loss: 0.1647\n",
            "  [Batch 120] Loss: 0.0608\n",
            "  [Batch 130] Loss: 0.2366\n",
            "  Train Loss: 0.1625, Train Acc: 0.9437\n",
            "  Val Loss: 0.6456, Val Acc: 0.8035\n",
            "  Improvement detected, saving model...\n",
            "\n",
            "Epoch 9/15\n",
            "  [Batch 0] Loss: 0.0951\n",
            "  [Batch 10] Loss: 0.0645\n",
            "  [Batch 20] Loss: 0.1671\n",
            "  [Batch 30] Loss: 0.0679\n",
            "  [Batch 40] Loss: 0.1025\n"
          ]
        },
        {
          "output_type": "stream",
          "name": "stderr",
          "text": [
            "/usr/local/lib/python3.11/dist-packages/PIL/Image.py:3402: DecompressionBombWarning: Image size (108000000 pixels) exceeds limit of 89478485 pixels, could be decompression bomb DOS attack.\n",
            "  warnings.warn(\n"
          ]
        },
        {
          "output_type": "stream",
          "name": "stdout",
          "text": [
            "  [Batch 50] Loss: 0.0658\n",
            "  [Batch 60] Loss: 0.1566\n",
            "  [Batch 70] Loss: 0.1326\n",
            "  [Batch 80] Loss: 0.0988\n",
            "  [Batch 90] Loss: 0.0339\n",
            "  [Batch 100] Loss: 0.1702\n",
            "  [Batch 110] Loss: 0.2553\n"
          ]
        },
        {
          "output_type": "stream",
          "name": "stderr",
          "text": [
            "/usr/local/lib/python3.11/dist-packages/PIL/Image.py:3402: DecompressionBombWarning: Image size (108000000 pixels) exceeds limit of 89478485 pixels, could be decompression bomb DOS attack.\n",
            "  warnings.warn(\n"
          ]
        },
        {
          "output_type": "stream",
          "name": "stdout",
          "text": [
            "  [Batch 120] Loss: 0.1083\n"
          ]
        },
        {
          "output_type": "stream",
          "name": "stderr",
          "text": [
            "/usr/local/lib/python3.11/dist-packages/PIL/TiffImagePlugin.py:949: UserWarning: Truncated File Read\n",
            "  warnings.warn(str(msg))\n",
            "/usr/local/lib/python3.11/dist-packages/PIL/JpegImagePlugin.py:890: UserWarning: Image appears to be a malformed MPO file, it will be interpreted as a base JPEG file\n",
            "  warnings.warn(\n",
            "/usr/local/lib/python3.11/dist-packages/PIL/Image.py:3402: DecompressionBombWarning: Image size (89943056 pixels) exceeds limit of 89478485 pixels, could be decompression bomb DOS attack.\n",
            "  warnings.warn(\n"
          ]
        },
        {
          "output_type": "stream",
          "name": "stdout",
          "text": [
            "  [Batch 130] Loss: 0.2180\n",
            "  Train Loss: 0.1301, Train Acc: 0.9577\n",
            "  Val Loss: 0.6668, Val Acc: 0.8069\n",
            "  Improvement detected, saving model...\n",
            "\n",
            "Epoch 10/15\n"
          ]
        },
        {
          "output_type": "stream",
          "name": "stderr",
          "text": [
            "/usr/local/lib/python3.11/dist-packages/PIL/Image.py:3402: DecompressionBombWarning: Image size (108000000 pixels) exceeds limit of 89478485 pixels, could be decompression bomb DOS attack.\n",
            "  warnings.warn(\n",
            "/usr/local/lib/python3.11/dist-packages/PIL/Image.py:3402: DecompressionBombWarning: Image size (94169282 pixels) exceeds limit of 89478485 pixels, could be decompression bomb DOS attack.\n",
            "  warnings.warn(\n"
          ]
        },
        {
          "output_type": "stream",
          "name": "stdout",
          "text": [
            "  [Batch 0] Loss: 0.2054\n",
            "  [Batch 10] Loss: 0.1335\n"
          ]
        },
        {
          "output_type": "stream",
          "name": "stderr",
          "text": [
            "/usr/local/lib/python3.11/dist-packages/PIL/Image.py:3402: DecompressionBombWarning: Image size (108000000 pixels) exceeds limit of 89478485 pixels, could be decompression bomb DOS attack.\n",
            "  warnings.warn(\n"
          ]
        },
        {
          "output_type": "stream",
          "name": "stdout",
          "text": [
            "  [Batch 20] Loss: 0.1110\n",
            "  [Batch 30] Loss: 0.0921\n",
            "  [Batch 40] Loss: 0.1933\n"
          ]
        },
        {
          "output_type": "stream",
          "name": "stderr",
          "text": [
            "/usr/local/lib/python3.11/dist-packages/PIL/TiffImagePlugin.py:949: UserWarning: Truncated File Read\n",
            "  warnings.warn(str(msg))\n",
            "/usr/local/lib/python3.11/dist-packages/PIL/JpegImagePlugin.py:890: UserWarning: Image appears to be a malformed MPO file, it will be interpreted as a base JPEG file\n",
            "  warnings.warn(\n"
          ]
        },
        {
          "output_type": "stream",
          "name": "stdout",
          "text": [
            "  [Batch 50] Loss: 0.2284\n",
            "  [Batch 60] Loss: 0.1185\n",
            "  [Batch 70] Loss: 0.0986\n",
            "  [Batch 80] Loss: 0.2534\n",
            "  [Batch 90] Loss: 0.0576\n",
            "  [Batch 100] Loss: 0.0605\n",
            "  [Batch 110] Loss: 0.0505\n",
            "  [Batch 120] Loss: 0.0906\n",
            "  [Batch 130] Loss: 0.1188\n",
            "  Train Loss: 0.1055, Train Acc: 0.9651\n",
            "  Val Loss: 0.6879, Val Acc: 0.8178\n",
            "  Improvement detected, saving model...\n",
            "\n",
            "Epoch 11/15\n",
            "  [Batch 0] Loss: 0.2431\n",
            "  [Batch 10] Loss: 0.1742\n",
            "  [Batch 20] Loss: 0.0424\n",
            "  [Batch 30] Loss: 0.0192\n"
          ]
        },
        {
          "output_type": "stream",
          "name": "stderr",
          "text": [
            "/usr/local/lib/python3.11/dist-packages/PIL/Image.py:3402: DecompressionBombWarning: Image size (108000000 pixels) exceeds limit of 89478485 pixels, could be decompression bomb DOS attack.\n",
            "  warnings.warn(\n"
          ]
        },
        {
          "output_type": "stream",
          "name": "stdout",
          "text": [
            "  [Batch 40] Loss: 0.1194\n",
            "  [Batch 50] Loss: 0.1674\n",
            "  [Batch 60] Loss: 0.0847\n",
            "  [Batch 70] Loss: 0.0666\n"
          ]
        },
        {
          "output_type": "stream",
          "name": "stderr",
          "text": [
            "/usr/local/lib/python3.11/dist-packages/PIL/TiffImagePlugin.py:949: UserWarning: Truncated File Read\n",
            "  warnings.warn(str(msg))\n",
            "/usr/local/lib/python3.11/dist-packages/PIL/JpegImagePlugin.py:890: UserWarning: Image appears to be a malformed MPO file, it will be interpreted as a base JPEG file\n",
            "  warnings.warn(\n"
          ]
        },
        {
          "output_type": "stream",
          "name": "stdout",
          "text": [
            "  [Batch 80] Loss: 0.3405\n",
            "  [Batch 90] Loss: 0.0917\n",
            "  [Batch 100] Loss: 0.0800\n",
            "  [Batch 110] Loss: 0.1957\n",
            "  [Batch 120] Loss: 0.0842\n",
            "  [Batch 130] Loss: 0.0758\n",
            "  Train Loss: 0.1110, Train Acc: 0.9644\n",
            "  Val Loss: 0.6830, Val Acc: 0.8220\n",
            "  Improvement detected, saving model...\n",
            "\n",
            "Epoch 12/15\n",
            "  [Batch 0] Loss: 0.0513\n"
          ]
        },
        {
          "output_type": "stream",
          "name": "stderr",
          "text": [
            "/usr/local/lib/python3.11/dist-packages/PIL/TiffImagePlugin.py:949: UserWarning: Truncated File Read\n",
            "  warnings.warn(str(msg))\n",
            "/usr/local/lib/python3.11/dist-packages/PIL/JpegImagePlugin.py:890: UserWarning: Image appears to be a malformed MPO file, it will be interpreted as a base JPEG file\n",
            "  warnings.warn(\n",
            "/usr/local/lib/python3.11/dist-packages/PIL/Image.py:3402: DecompressionBombWarning: Image size (108000000 pixels) exceeds limit of 89478485 pixels, could be decompression bomb DOS attack.\n",
            "  warnings.warn(\n",
            "/usr/local/lib/python3.11/dist-packages/PIL/Image.py:3402: DecompressionBombWarning: Image size (108000000 pixels) exceeds limit of 89478485 pixels, could be decompression bomb DOS attack.\n",
            "  warnings.warn(\n"
          ]
        },
        {
          "output_type": "stream",
          "name": "stdout",
          "text": [
            "  [Batch 10] Loss: 0.0133\n",
            "  [Batch 20] Loss: 0.0585\n"
          ]
        },
        {
          "output_type": "stream",
          "name": "stderr",
          "text": [
            "/usr/local/lib/python3.11/dist-packages/PIL/TiffImagePlugin.py:949: UserWarning: Truncated File Read\n",
            "  warnings.warn(str(msg))\n",
            "/usr/local/lib/python3.11/dist-packages/PIL/JpegImagePlugin.py:890: UserWarning: Image appears to be a malformed MPO file, it will be interpreted as a base JPEG file\n",
            "  warnings.warn(\n"
          ]
        },
        {
          "output_type": "stream",
          "name": "stdout",
          "text": [
            "  [Batch 30] Loss: 0.0376\n",
            "  [Batch 40] Loss: 0.1615\n",
            "  [Batch 50] Loss: 0.3270\n",
            "  [Batch 60] Loss: 0.0276\n",
            "  [Batch 70] Loss: 0.0189\n",
            "  [Batch 80] Loss: 0.1899\n",
            "  [Batch 90] Loss: 0.0945\n",
            "  [Batch 100] Loss: 0.0447\n",
            "  [Batch 110] Loss: 0.0121\n",
            "  [Batch 120] Loss: 0.1538\n",
            "  [Batch 130] Loss: 0.0963\n",
            "  Train Loss: 0.0888, Train Acc: 0.9701\n",
            "  Val Loss: 0.6673, Val Acc: 0.8254\n",
            "  Improvement detected, saving model...\n",
            "\n",
            "Epoch 13/15\n",
            "  [Batch 0] Loss: 0.0835\n"
          ]
        },
        {
          "output_type": "stream",
          "name": "stderr",
          "text": [
            "/usr/local/lib/python3.11/dist-packages/PIL/Image.py:3402: DecompressionBombWarning: Image size (108000000 pixels) exceeds limit of 89478485 pixels, could be decompression bomb DOS attack.\n",
            "  warnings.warn(\n",
            "/usr/local/lib/python3.11/dist-packages/PIL/Image.py:3402: DecompressionBombWarning: Image size (108000000 pixels) exceeds limit of 89478485 pixels, could be decompression bomb DOS attack.\n",
            "  warnings.warn(\n",
            "/usr/local/lib/python3.11/dist-packages/PIL/Image.py:3402: DecompressionBombWarning: Image size (96826695 pixels) exceeds limit of 89478485 pixels, could be decompression bomb DOS attack.\n",
            "  warnings.warn(\n"
          ]
        },
        {
          "output_type": "stream",
          "name": "stdout",
          "text": [
            "  [Batch 10] Loss: 0.0760\n"
          ]
        },
        {
          "output_type": "stream",
          "name": "stderr",
          "text": [
            "/usr/local/lib/python3.11/dist-packages/PIL/TiffImagePlugin.py:949: UserWarning: Truncated File Read\n",
            "  warnings.warn(str(msg))\n",
            "/usr/local/lib/python3.11/dist-packages/PIL/JpegImagePlugin.py:890: UserWarning: Image appears to be a malformed MPO file, it will be interpreted as a base JPEG file\n",
            "  warnings.warn(\n"
          ]
        },
        {
          "output_type": "stream",
          "name": "stdout",
          "text": [
            "  [Batch 20] Loss: 0.0998\n"
          ]
        },
        {
          "output_type": "stream",
          "name": "stderr",
          "text": [
            "/usr/local/lib/python3.11/dist-packages/PIL/TiffImagePlugin.py:949: UserWarning: Truncated File Read\n",
            "  warnings.warn(str(msg))\n",
            "/usr/local/lib/python3.11/dist-packages/PIL/JpegImagePlugin.py:890: UserWarning: Image appears to be a malformed MPO file, it will be interpreted as a base JPEG file\n",
            "  warnings.warn(\n"
          ]
        },
        {
          "output_type": "stream",
          "name": "stdout",
          "text": [
            "  [Batch 30] Loss: 0.2088\n",
            "  [Batch 40] Loss: 0.0165\n",
            "  [Batch 50] Loss: 0.1122\n",
            "  [Batch 60] Loss: 0.0272\n",
            "  [Batch 70] Loss: 0.1879\n",
            "  [Batch 80] Loss: 0.0399\n",
            "  [Batch 90] Loss: 0.0966\n",
            "  [Batch 100] Loss: 0.0935\n",
            "  [Batch 110] Loss: 0.1224\n",
            "  [Batch 120] Loss: 0.0800\n",
            "  [Batch 130] Loss: 0.1734\n",
            "  Train Loss: 0.0752, Train Acc: 0.9761\n",
            "  Val Loss: 0.6785, Val Acc: 0.8161\n",
            "  No improvement. (1/3)\n",
            "\n",
            "Epoch 14/15\n",
            "  [Batch 0] Loss: 0.0736\n",
            "  [Batch 10] Loss: 0.0147\n",
            "  [Batch 20] Loss: 0.1395\n",
            "  [Batch 30] Loss: 0.0445\n",
            "  [Batch 40] Loss: 0.0269\n"
          ]
        },
        {
          "output_type": "stream",
          "name": "stderr",
          "text": [
            "/usr/local/lib/python3.11/dist-packages/PIL/TiffImagePlugin.py:949: UserWarning: Truncated File Read\n",
            "  warnings.warn(str(msg))\n",
            "/usr/local/lib/python3.11/dist-packages/PIL/JpegImagePlugin.py:890: UserWarning: Image appears to be a malformed MPO file, it will be interpreted as a base JPEG file\n",
            "  warnings.warn(\n",
            "/usr/local/lib/python3.11/dist-packages/PIL/TiffImagePlugin.py:949: UserWarning: Truncated File Read\n",
            "  warnings.warn(str(msg))\n",
            "/usr/local/lib/python3.11/dist-packages/PIL/JpegImagePlugin.py:890: UserWarning: Image appears to be a malformed MPO file, it will be interpreted as a base JPEG file\n",
            "  warnings.warn(\n"
          ]
        },
        {
          "output_type": "stream",
          "name": "stdout",
          "text": [
            "  [Batch 50] Loss: 0.1275\n",
            "  [Batch 60] Loss: 0.0421\n",
            "  [Batch 70] Loss: 0.0949\n",
            "  [Batch 80] Loss: 0.1818\n",
            "  [Batch 90] Loss: 0.0633\n",
            "  [Batch 100] Loss: 0.0350\n",
            "  [Batch 110] Loss: 0.0785\n",
            "  [Batch 120] Loss: 0.0828\n",
            "  [Batch 130] Loss: 0.1321\n",
            "  Train Loss: 0.0786, Train Acc: 0.9752\n",
            "  Val Loss: 0.6770, Val Acc: 0.8212\n",
            "  No improvement. (2/3)\n",
            "\n",
            "Epoch 15/15\n",
            "  [Batch 0] Loss: 0.0839\n",
            "  [Batch 10] Loss: 0.0120\n",
            "  [Batch 20] Loss: 0.0402\n",
            "  [Batch 30] Loss: 0.0128\n",
            "  [Batch 40] Loss: 0.2057\n",
            "  [Batch 50] Loss: 0.0241\n",
            "  [Batch 60] Loss: 0.1040\n"
          ]
        },
        {
          "output_type": "stream",
          "name": "stderr",
          "text": [
            "/usr/local/lib/python3.11/dist-packages/PIL/TiffImagePlugin.py:949: UserWarning: Truncated File Read\n",
            "  warnings.warn(str(msg))\n",
            "/usr/local/lib/python3.11/dist-packages/PIL/JpegImagePlugin.py:890: UserWarning: Image appears to be a malformed MPO file, it will be interpreted as a base JPEG file\n",
            "  warnings.warn(\n"
          ]
        },
        {
          "output_type": "stream",
          "name": "stdout",
          "text": [
            "  [Batch 70] Loss: 0.0939\n",
            "  [Batch 80] Loss: 0.1027\n",
            "  [Batch 90] Loss: 0.0463\n",
            "  [Batch 100] Loss: 0.0145\n",
            "  [Batch 110] Loss: 0.1764\n",
            "  [Batch 120] Loss: 0.0722\n",
            "  [Batch 130] Loss: 0.0116\n"
          ]
        },
        {
          "output_type": "stream",
          "name": "stderr",
          "text": [
            "/usr/local/lib/python3.11/dist-packages/PIL/TiffImagePlugin.py:949: UserWarning: Truncated File Read\n",
            "  warnings.warn(str(msg))\n",
            "/usr/local/lib/python3.11/dist-packages/PIL/JpegImagePlugin.py:890: UserWarning: Image appears to be a malformed MPO file, it will be interpreted as a base JPEG file\n",
            "  warnings.warn(\n"
          ]
        },
        {
          "output_type": "stream",
          "name": "stdout",
          "text": [
            "  Train Loss: 0.0740, Train Acc: 0.9775\n",
            "  Val Loss: 0.6673, Val Acc: 0.8186\n",
            "  No improvement. (3/3)\n",
            "Early stopping triggered.\n",
            "\n",
            "Evaluating model on test set...\n",
            "  Processed batch 0\n",
            "  Processed batch 5\n",
            "  Processed batch 10\n",
            "  Processed batch 15\n",
            "  Processed batch 20\n",
            "  Processed batch 25\n",
            "  Processed batch 30\n",
            "  Processed batch 35\n",
            "\n",
            "Test Results — Loss: 0.6673, Acc: 0.8186, Balanced Acc: 0.8067\n",
            "Saving confusion matrix plot to: /content/drive/MyDrive/temple_classification_output/confusion_matrix_balanced_high_res.png\n",
            "Plot saved.\n"
          ]
        }
      ]
    },
    {
      "cell_type": "code",
      "source": [
        "models_results = {\n",
        "    \"Baseline (EfficientNet-B0, 160x160)\": {\n",
        "        \"balanced_acc\": baseline_balanced_acc,\n",
        "        \"confusion_matrix\": baseline_cm,\n",
        "    },\n",
        "    \"Balanced Classes (EfficientNet-B0, 160x160)\": {\n",
        "        \"balanced_acc\": balanced_balanced_acc,\n",
        "        \"confusion_matrix\": balanced_cm,\n",
        "    },\n",
        "    \"Balanced + High Resolution (EfficientNet-B0, 224x224)\": {\n",
        "        \"balanced_acc\": balanced_high_res_balanced_acc,\n",
        "        \"confusion_matrix\": balanced_high_res_cm,\n",
        "    }\n",
        "}\n",
        "\n",
        "# Create comparison bar chart\n",
        "plt.figure(figsize=(14, 6))\n",
        "models_list = list(models_results.keys())\n",
        "accuracies = [models_results[model][\"balanced_acc\"] for model in models_list]\n",
        "\n",
        "plt.bar(models_list, accuracies)\n",
        "plt.ylabel('Balanced Accuracy')\n",
        "plt.title('Model Comparison')\n",
        "plt.xticks(rotation=45, ha='right')\n",
        "plt.tight_layout()\n",
        "plt.savefig(os.path.join(output_dir, 'model_comparison.png'))\n",
        "plt.show()  # Show the plot\n",
        "# plt.close()  # Optional: close if you want to clear memory\n",
        "\n",
        "# Create per-class accuracy comparison\n",
        "per_class_results = {}\n",
        "for model_name, model_data in models_results.items():\n",
        "    per_class_results[model_name] = model_data[\"confusion_matrix\"].diagonal()\n",
        "\n",
        "fig, ax = plt.subplots(figsize=(14, 8))\n",
        "x = np.arange(len(all_classes))\n",
        "width = 0.15\n",
        "multiplier = 0\n",
        "\n",
        "print()\n",
        "\n",
        "for model_name, accuracies in per_class_results.items():\n",
        "    offset = width * multiplier\n",
        "    ax.bar(x + offset, accuracies, width, label=model_name)\n",
        "    multiplier += 1\n",
        "\n",
        "ax.set_xlabel('Class')\n",
        "ax.set_ylabel('Accuracy')\n",
        "ax.set_title('Per-Class Accuracy Comparison')\n",
        "ax.set_xticks(x + width * 1)\n",
        "ax.set_xticklabels(all_classes, rotation=45, ha='right')\n",
        "ax.legend(loc='upper center', bbox_to_anchor=(0.5, -0.15), ncol=2)\n",
        "plt.tight_layout()\n",
        "plt.savefig(os.path.join(output_dir, 'per_class_comparison.png'))\n",
        "plt.show()  # Show the plot\n",
        "# plt.close()  # Optional\n"
      ],
      "metadata": {
        "colab": {
          "base_uri": "https://localhost:8080/",
          "height": 1000
        },
        "id": "zydG4HB2Xzso",
        "outputId": "041aa026-c187-4629-8148-77b6d039e691"
      },
      "execution_count": 33,
      "outputs": [
        {
          "output_type": "display_data",
          "data": {
            "text/plain": [
              "<Figure size 1400x600 with 1 Axes>"
            ],
            "image/png": "[encoded data removed]"
          },
          "metadata": {}
        },
        {
          "output_type": "stream",
          "name": "stdout",
          "text": [
            "\n"
          ]
        },
        {
          "output_type": "display_data",
          "data": {
            "text/plain": [
              "<Figure size 1400x800 with 1 Axes>"
            ],
            "image/png": "[encoded data removed]"
          },
          "metadata": {}
        }
      ]
    },
    {
      "cell_type": "code",
      "source": [
        "class TempleArchitectureClassifier:\n",
        "    def __init__(self, model_path=os.path.join(output_dir, 'best_model.pth'), resolution=160):\n",
        "        self.classes = all_classes\n",
        "        self.church_styles = church_styles\n",
        "        self.mosque_styles = mosque_styles\n",
        "        self.resolution = resolution\n",
        "\n",
        "        # Setup transform\n",
        "        if resolution == 160:\n",
        "            self.transform = transforms.Compose([\n",
        "                transforms.Resize(192),\n",
        "                transforms.CenterCrop(160),\n",
        "                transforms.ToTensor(),\n",
        "                transforms.Normalize(mean=[0.485, 0.456, 0.406], std=[0.229, 0.224, 0.225])\n",
        "            ])\n",
        "        else:  # 224\n",
        "            self.transform = transforms.Compose([\n",
        "                transforms.Resize(256),\n",
        "                transforms.CenterCrop(224),\n",
        "                transforms.ToTensor(),\n",
        "                transforms.Normalize(mean=[0.485, 0.456, 0.406], std=[0.229, 0.224, 0.225])\n",
        "            ])\n",
        "\n",
        "        # Load model\n",
        "        self.model = create_efficientnet_model(len(self.classes))\n",
        "        self.model.load_state_dict(torch.load(model_path, map_location=device))\n",
        "        self.model.to(device)\n",
        "        self.model.eval()\n",
        "\n",
        "    def predict(self, image_path):\n",
        "        # Load and preprocess image\n",
        "        img = Image.open(image_path).convert('RGB')\n",
        "        img_tensor = self.transform(img).unsqueeze(0).to(device)\n",
        "\n",
        "        # Make prediction\n",
        "        with torch.no_grad():\n",
        "            outputs = self.model(img_tensor)\n",
        "            probabilities = F.softmax(outputs, dim=1)\n",
        "            confidence, predicted = torch.max(probabilities, 1)\n",
        "\n",
        "        # Get class name and confidence\n",
        "        predicted_class = self.classes[predicted.item()]\n",
        "        confidence_score = confidence.item()\n",
        "\n",
        "        # Determine if it's a church or mosque\n",
        "        if predicted_class in self.church_styles:\n",
        "            building_type = \"Church\"\n",
        "        else:\n",
        "            building_type = \"Mosque\"\n",
        "\n",
        "        # Get top-3 predictions\n",
        "        top_probs, top_indices = torch.topk(probabilities, 3, dim=1)\n",
        "        top_classes = [self.classes[idx] for idx in top_indices[0].cpu().numpy()]\n",
        "        top_probs = top_probs[0].cpu().numpy()\n",
        "\n",
        "        return {\n",
        "            \"predicted_class\": predicted_class,\n",
        "            \"confidence\": confidence_score,\n",
        "            \"building_type\": building_type,\n",
        "            \"top3_classes\": top_classes,\n",
        "            \"top3_probabilities\": top_probs\n",
        "        }"
      ],
      "metadata": {
        "id": "S-3sErvvYj74"
      },
      "execution_count": 34,
      "outputs": []
    },
    {
      "cell_type": "code",
      "source": [
        "from google.colab import files\n",
        "uploaded = files.upload()\n"
      ],
      "metadata": {
        "colab": {
          "base_uri": "https://localhost:8080/",
          "height": 71
        },
        "id": "u--HVJqmY6TZ",
        "outputId": "14730a60-19fa-4a10-952f-99d37d90dced"
      },
      "execution_count": 37,
      "outputs": [
        {
          "output_type": "display_data",
          "data": {
            "text/plain": [
              "<IPython.core.display.HTML object>"
            ],
            "text/html": [
              "\n",
              "     <input type=\"file\" id=\"files-5d1f31ec-a268-4438-bfee-e311f2f506f6\" name=\"files[]\" multiple disabled\n",
              "        style=\"border:none\" />\n",
              "     <output id=\"result-5d1f31ec-a268-4438-bfee-e311f2f506f6\">\n",
              "      Upload widget is only available when the cell has been executed in the\n",
              "      current browser session. Please rerun this cell to enable.\n",
              "      </output>\n",
              "      <script>// Copyright 2017 Google LLC\n",
              "//\n",
              "// Licensed under the Apache License, Version 2.0 (the \"License\");\n",
              "// you may not use this file except in compliance with the License.\n",
              "// You may obtain a copy of the License at\n",
              "//\n",
              "//      http://www.apache.org/licenses/LICENSE-2.0\n",
              "//\n",
              "// Unless required by applicable law or agreed to in writing, software\n",
              "// distributed under the License is distributed on an \"AS IS\" BASIS,\n",
              "// WITHOUT WARRANTIES OR CONDITIONS OF ANY KIND, either express or implied.\n",
              "// See the License for the specific language governing permissions and\n",
              "// limitations under the License.\n",
              "\n",
              "/**\n",
              " * @fileoverview Helpers for google.colab Python module.\n",
              " */\n",
              "(function(scope) {\n",
              "function span(text, styleAttributes = {}) {\n",
              "  const element = document.createElement('span');\n",
              "  element.textContent = text;\n",
              "  for (const key of Object.keys(styleAttributes)) {\n",
              "    element.style[key] = styleAttributes[key];\n",
              "  }\n",
              "  return element;\n",
              "}\n",
              "\n",
              "// Max number of bytes which will be uploaded at a time.\n",
              "const MAX_PAYLOAD_SIZE = 100 * 1024;\n",
              "\n",
              "function _uploadFiles(inputId, outputId) {\n",
              "  const steps = uploadFilesStep(inputId, outputId);\n",
              "  const outputElement = document.getElementById(outputId);\n",
              "  // Cache steps on the outputElement to make it available for the next call\n",
              "  // to uploadFilesContinue from Python.\n",
              "  outputElement.steps = steps;\n",
              "\n",
              "  return _uploadFilesContinue(outputId);\n",
              "}\n",
              "\n",
              "// This is roughly an async generator (not supported in the browser yet),\n",
              "// where there are multiple asynchronous steps and the Python side is going\n",
              "// to poll for completion of each step.\n",
              "// This uses a Promise to block the python side on completion of each step,\n",
              "// then passes the result of the previous step as the input to the next step.\n",
              "function _uploadFilesContinue(outputId) {\n",
              "  const outputElement = document.getElementById(outputId);\n",
              "  const steps = outputElement.steps;\n",
              "\n",
              "  const next = steps.next(outputElement.lastPromiseValue);\n",
              "  return Promise.resolve(next.value.promise).then((value) => {\n",
              "    // Cache the last promise value to make it available to the next\n",
              "    // step of the generator.\n",
              "    outputElement.lastPromiseValue = value;\n",
              "    return next.value.response;\n",
              "  });\n",
              "}\n",
              "\n",
              "/**\n",
              " * Generator function which is called between each async step of the upload\n",
              " * process.\n",
              " * @param {string} inputId Element ID of the input file picker element.\n",
              " * @param {string} outputId Element ID of the output display.\n",
              " * @return {!Iterable<!Object>} Iterable of next steps.\n",
              " */\n",
              "function* uploadFilesStep(inputId, outputId) {\n",
              "  const inputElement = document.getElementById(inputId);\n",
              "  inputElement.disabled = false;\n",
              "\n",
              "  const outputElement = document.getElementById(outputId);\n",
              "  outputElement.innerHTML = '';\n",
              "\n",
              "  const pickedPromise = new Promise((resolve) => {\n",
              "    inputElement.addEventListener('change', (e) => {\n",
              "      resolve(e.target.files);\n",
              "    });\n",
              "  });\n",
              "\n",
              "  const cancel = document.createElement('button');\n",
              "  inputElement.parentElement.appendChild(cancel);\n",
              "  cancel.textContent = 'Cancel upload';\n",
              "  const cancelPromise = new Promise((resolve) => {\n",
              "    cancel.onclick = () => {\n",
              "      resolve(null);\n",
              "    };\n",
              "  });\n",
              "\n",
              "  // Wait for the user to pick the files.\n",
              "  const files = yield {\n",
              "    promise: Promise.race([pickedPromise, cancelPromise]),\n",
              "    response: {\n",
              "      action: 'starting',\n",
              "    }\n",
              "  };\n",
              "\n",
              "  cancel.remove();\n",
              "\n",
              "  // Disable the input element since further picks are not allowed.\n",
              "  inputElement.disabled = true;\n",
              "\n",
              "  if (!files) {\n",
              "    return {\n",
              "      response: {\n",
              "        action: 'complete',\n",
              "      }\n",
              "    };\n",
              "  }\n",
              "\n",
              "  for (const file of files) {\n",
              "    const li = document.createElement('li');\n",
              "    li.append(span(file.name, {fontWeight: 'bold'}));\n",
              "    li.append(span(\n",
              "        `(${file.type || 'n/a'}) - ${file.size} bytes, ` +\n",
              "        `last modified: ${\n",
              "            file.lastModifiedDate ? file.lastModifiedDate.toLocaleDateString() :\n",
              "                                    'n/a'} - `));\n",
              "    const percent = span('0% done');\n",
              "    li.appendChild(percent);\n",
              "\n",
              "    outputElement.appendChild(li);\n",
              "\n",
              "    const fileDataPromise = new Promise((resolve) => {\n",
              "      const reader = new FileReader();\n",
              "      reader.onload = (e) => {\n",
              "        resolve(e.target.result);\n",
              "      };\n",
              "      reader.readAsArrayBuffer(file);\n",
              "    });\n",
              "    // Wait for the data to be ready.\n",
              "    let fileData = yield {\n",
              "      promise: fileDataPromise,\n",
              "      response: {\n",
              "        action: 'continue',\n",
              "      }\n",
              "    };\n",
              "\n",
              "    // Use a chunked sending to avoid message size limits. See b/62115660.\n",
              "    let position = 0;\n",
              "    do {\n",
              "      const length = Math.min(fileData.byteLength - position, MAX_PAYLOAD_SIZE);\n",
              "      const chunk = new Uint8Array(fileData, position, length);\n",
              "      position += length;\n",
              "\n",
              "      const base64 = btoa(String.fromCharCode.apply(null, chunk));\n",
              "      yield {\n",
              "        response: {\n",
              "          action: 'append',\n",
              "          file: file.name,\n",
              "          data: base64,\n",
              "        },\n",
              "      };\n",
              "\n",
              "      let percentDone = fileData.byteLength === 0 ?\n",
              "          100 :\n",
              "          Math.round((position / fileData.byteLength) * 100);\n",
              "      percent.textContent = `${percentDone}% done`;\n",
              "\n",
              "    } while (position < fileData.byteLength);\n",
              "  }\n",
              "\n",
              "  // All done.\n",
              "  yield {\n",
              "    response: {\n",
              "      action: 'complete',\n",
              "    }\n",
              "  };\n",
              "}\n",
              "\n",
              "scope.google = scope.google || {};\n",
              "scope.google.colab = scope.google.colab || {};\n",
              "scope.google.colab._files = {\n",
              "  _uploadFiles,\n",
              "  _uploadFilesContinue,\n",
              "};\n",
              "})(self);\n",
              "</script> "
            ]
          },
          "metadata": {}
        },
        {
          "output_type": "stream",
          "name": "stdout",
          "text": [
            "Saving Q18158272_wd0.jpg to Q18158272_wd0.jpg\n"
          ]
        }
      ]
    },
    {
      "cell_type": "code",
      "source": [
        "image_path = 'Q18158272_wd0.jpg'\n",
        "result = classifier.predict(image_path)\n",
        "from pprint import pprint\n",
        "pprint(result)\n",
        "# mazbout"
      ],
      "metadata": {
        "colab": {
          "base_uri": "https://localhost:8080/"
        },
        "id": "D5FPyIB8aRx3",
        "outputId": "dbb61c46-9ecd-4b48-987a-af7c394a6f25"
      },
      "execution_count": 38,
      "outputs": [
        {
          "output_type": "stream",
          "name": "stdout",
          "text": [
            "{'building_type': 'Church',\n",
            " 'confidence': 0.9999582767486572,\n",
            " 'predicted_class': 'church_gothic',\n",
            " 'top3_classes': ['church_gothic', 'church_baroque', 'church_byzantine'],\n",
            " 'top3_probabilities': array([9.9995828e-01, 3.1846488e-05, 5.6967715e-06], dtype=float32)}\n"
          ]
        }
      ]
    },
    {
      "cell_type": "code",
      "source": [
        "# evaluating to see the f1score ...\n",
        "from sklearn.metrics import precision_score, recall_score, f1_score\n",
        "\n",
        "def evaluate_model(model, test_loader, criterion, device=device):\n",
        "    print(\"\\nEvaluating model on test set...\")\n",
        "    model.eval()\n",
        "    running_loss = 0.0\n",
        "    all_preds = []\n",
        "    all_labels = []\n",
        "\n",
        "    with torch.no_grad():\n",
        "        for i, (inputs, labels) in enumerate(test_loader):\n",
        "            inputs, labels = inputs.to(device), labels.to(device)\n",
        "            outputs = model(inputs)\n",
        "            loss = criterion(outputs, labels)\n",
        "\n",
        "            running_loss += loss.item() * inputs.size(0)\n",
        "            _, preds = torch.max(outputs, 1)\n",
        "\n",
        "            all_preds.extend(preds.cpu().numpy())\n",
        "            all_labels.extend(labels.cpu().numpy())\n",
        "\n",
        "            if i % 5 == 0:\n",
        "                print(f\"  Processed batch {i}\")\n",
        "\n",
        "    test_loss = running_loss / len(test_loader.dataset)\n",
        "    test_acc = sum(np.array(all_preds) == np.array(all_labels)) / len(all_labels)\n",
        "    balanced_acc = balanced_accuracy_score(all_labels, all_preds)\n",
        "\n",
        "    # Calculate additional metrics\n",
        "    precision = precision_score(all_labels, all_preds, average='weighted')\n",
        "    recall = recall_score(all_labels, all_preds, average='weighted')\n",
        "    f1 = f1_score(all_labels, all_preds, average='weighted')\n",
        "\n",
        "    # Per-class metrics\n",
        "    precision_per_class = precision_score(all_labels, all_preds, average=None)\n",
        "    recall_per_class = recall_score(all_labels, all_preds, average=None)\n",
        "    f1_per_class = f1_score(all_labels, all_preds, average=None)\n",
        "\n",
        "    print(f\"\\nTest Results — Loss: {test_loss:.4f}, Acc: {test_acc:.4f}, Balanced Acc: {balanced_acc:.4f}\")\n",
        "    print(f\"Precision: {precision:.4f}, Recall: {recall:.4f}, F1: {f1:.4f}\")\n",
        "\n",
        "    cm = confusion_matrix(all_labels, all_preds)\n",
        "    cm_normalized = cm.astype('float') / cm.sum(axis=1)[:, np.newaxis]\n",
        "\n",
        "    return {\n",
        "        'test_loss': test_loss,\n",
        "        'test_acc': test_acc,\n",
        "        'balanced_acc': balanced_acc,\n",
        "        'precision': precision,\n",
        "        'recall': recall,\n",
        "        'f1': f1,\n",
        "        'precision_per_class': precision_per_class,\n",
        "        'recall_per_class': recall_per_class,\n",
        "        'f1_per_class': f1_per_class,\n",
        "        'confusion_matrix': cm_normalized,\n",
        "        'predictions': all_preds,\n",
        "        'labels': all_labels\n",
        "    }\n",
        "\n",
        "# For baseline model\n",
        "baseline_results = evaluate_model(baseline_model, test_loader, criterion)\n",
        "baseline_balanced_acc = baseline_results['balanced_acc']\n",
        "baseline_cm = baseline_results['confusion_matrix']\n",
        "baseline_preds = baseline_results['predictions']\n",
        "baseline_labels = baseline_results['labels']\n",
        "\n",
        "# For balanced model\n",
        "balanced_results = evaluate_model(balanced_model, test_loader, criterion)\n",
        "balanced_balanced_acc = balanced_results['balanced_acc']\n",
        "balanced_cm = balanced_results['confusion_matrix']\n",
        "balanced_preds = balanced_results['predictions']\n",
        "balanced_labels = balanced_results['labels']\n",
        "\n",
        "# For high-res model\n",
        "balanced_high_res_results = evaluate_model(balanced_high_res_model, high_res_test_loader, criterion)\n",
        "balanced_high_res_balanced_acc = balanced_high_res_results['balanced_acc']\n",
        "balanced_high_res_cm = balanced_high_res_results['confusion_matrix']\n",
        "balanced_high_res_preds = balanced_high_res_results['predictions']\n",
        "balanced_high_res_labels = balanced_high_res_results['labels']"
      ],
      "metadata": {
        "colab": {
          "base_uri": "https://localhost:8080/"
        },
        "id": "0J8uqVDAc3l4",
        "outputId": "6931fa9a-7158-414d-9a54-199c10250da5"
      },
      "execution_count": 40,
      "outputs": [
        {
          "output_type": "stream",
          "name": "stdout",
          "text": [
            "\n",
            "Evaluating model on test set...\n",
            "  Processed batch 0\n",
            "  Processed batch 5\n",
            "  Processed batch 10\n",
            "  Processed batch 15\n",
            "\n",
            "Test Results — Loss: 0.7889, Acc: 0.7817, Balanced Acc: 0.7515\n",
            "Precision: 0.7789, Recall: 0.7817, F1: 0.7761\n",
            "\n",
            "Evaluating model on test set...\n",
            "  Processed batch 0\n",
            "  Processed batch 5\n",
            "  Processed batch 10\n",
            "  Processed batch 15\n",
            "\n",
            "Test Results — Loss: 0.6767, Acc: 0.7825, Balanced Acc: 0.7937\n",
            "Precision: 0.7837, Recall: 0.7825, F1: 0.7820\n",
            "\n",
            "Evaluating model on test set...\n",
            "  Processed batch 0\n",
            "  Processed batch 5\n",
            "  Processed batch 10\n",
            "  Processed batch 15\n",
            "  Processed batch 20\n",
            "  Processed batch 25\n",
            "  Processed batch 30\n",
            "  Processed batch 35\n",
            "\n",
            "Test Results — Loss: 0.6673, Acc: 0.8186, Balanced Acc: 0.8067\n",
            "Precision: 0.8174, Recall: 0.8186, F1: 0.8167\n"
          ]
        }
      ]
    },
    {
      "cell_type": "code",
      "source": [
        "models_results = {\n",
        "    \"Baseline (EfficientNet-B0, 160x160)\": {\n",
        "        \"balanced_acc\": baseline_results['balanced_acc'],\n",
        "        \"precision\": baseline_results['precision'],\n",
        "        \"recall\": baseline_results['recall'],\n",
        "        \"f1\": baseline_results['f1'],\n",
        "        \"confusion_matrix\": baseline_results['confusion_matrix'],\n",
        "    },\n",
        "    \"Balanced Classes (EfficientNet-B0, 160x160)\": {\n",
        "        \"balanced_acc\": balanced_results['balanced_acc'],\n",
        "        \"precision\": balanced_results['precision'],\n",
        "        \"recall\": balanced_results['recall'],\n",
        "        \"f1\": balanced_results['f1'],\n",
        "        \"confusion_matrix\": balanced_results['confusion_matrix'],\n",
        "    },\n",
        "    \"Balanced + High Resolution (EfficientNet-B0, 224x224)\": {\n",
        "        \"balanced_acc\": balanced_high_res_results['balanced_acc'],\n",
        "        \"precision\": balanced_high_res_results['precision'],\n",
        "        \"recall\": balanced_high_res_results['recall'],\n",
        "        \"f1\": balanced_high_res_results['f1'],\n",
        "        \"confusion_matrix\": balanced_high_res_results['confusion_matrix'],\n",
        "    }\n",
        "}"
      ],
      "metadata": {
        "id": "8enRQ199ej8z"
      },
      "execution_count": 41,
      "outputs": []
    },
    {
      "cell_type": "code",
      "source": [
        "import pandas as pd\n",
        "import matplotlib.pyplot as plt\n",
        "\n",
        "df = pd.DataFrame(models_results).T\n",
        "df = df[['balanced_acc', 'precision', 'recall', 'f1']]\n",
        "df.columns = ['Balanced Accuracy', 'Precision', 'Recall', 'F1-Score']\n",
        "\n",
        "# Format numbers to exactly 4 decimal places (as strings)\n",
        "formatted_df = df.applymap(lambda x: f\"{x:.4f}\")\n",
        "\n",
        "plt.figure(figsize=(10, 3))\n",
        "ax = plt.subplot(111, frame_on=False)\n",
        "ax.xaxis.set_visible(False)\n",
        "ax.yaxis.set_visible(False)\n",
        "\n",
        "# Create the table with additional parameters for spacing\n",
        "table = pd.plotting.table(\n",
        "    ax,\n",
        "    formatted_df,  # Use formatted strings instead of rounded numbers\n",
        "    loc='center',\n",
        "    cellLoc='center',\n",
        "    colWidths=[0.2] * len(df.columns),\n",
        "    # Add these parameters for spacing:\n",
        "    cellColours=None,  # Can specify colors if needed\n",
        "    edges='horizontal',  # Show only horizontal lines\n",
        "    bbox=[0, 0, 1, 1]  # This helps with positioning\n",
        ")\n",
        "\n",
        "# Adjust table properties for better spacing\n",
        "table.auto_set_font_size(False)\n",
        "table.set_fontsize(12)\n",
        "table.scale(1.2, 1.5)  # Increased vertical scaling for row spacing\n",
        "\n",
        "# Adjust cell padding\n",
        "for key, cell in table.get_celld().items():\n",
        "    cell.set_height(0.2)  # Adjust cell height\n",
        "    cell.PAD = 0.2  # Add padding around cell content\n",
        "\n",
        "plt.savefig('metrics_table.png', dpi=300, bbox_inches='tight', pad_inches=0.2)\n",
        "plt.show()"
      ],
      "metadata": {
        "colab": {
          "base_uri": "https://localhost:8080/",
          "height": 303
        },
        "id": "xaOj05kIe2_B",
        "outputId": "143a1c5d-2c6d-4e31-83af-c5235759ade1"
      },
      "execution_count": 50,
      "outputs": [
        {
          "output_type": "stream",
          "name": "stderr",
          "text": [
            "<ipython-input-50-233fbdd58a2d>:9: FutureWarning: DataFrame.applymap has been deprecated. Use DataFrame.map instead.\n",
            "  formatted_df = df.applymap(lambda x: f\"{x:.4f}\")\n"
          ]
        },
        {
          "output_type": "display_data",
          "data": {
            "text/plain": [
              "<Figure size 1000x300 with 1 Axes>"
            ],
            "image/png": "[encoded data removed]"
          },
          "metadata": {}
        }
      ]
    },
    {
      "cell_type": "code",
      "source": [
        "from google.colab import files\n",
        "uploaded = files.upload()\n",
        "\n"
      ],
      "metadata": {
        "colab": {
          "base_uri": "https://localhost:8080/",
          "height": 71
        },
        "id": "iXc1E_nFg7dZ",
        "outputId": "8d945984-0631-481e-f479-17400f65e7aa"
      },
      "execution_count": 51,
      "outputs": [
        {
          "output_type": "display_data",
          "data": {
            "text/plain": [
              "<IPython.core.display.HTML object>"
            ],
            "text/html": [
              "\n",
              "     <input type=\"file\" id=\"files-cf305607-4dca-462a-a131-99ef92e5a05a\" name=\"files[]\" multiple disabled\n",
              "        style=\"border:none\" />\n",
              "     <output id=\"result-cf305607-4dca-462a-a131-99ef92e5a05a\">\n",
              "      Upload widget is only available when the cell has been executed in the\n",
              "      current browser session. Please rerun this cell to enable.\n",
              "      </output>\n",
              "      <script>// Copyright 2017 Google LLC\n",
              "//\n",
              "// Licensed under the Apache License, Version 2.0 (the \"License\");\n",
              "// you may not use this file except in compliance with the License.\n",
              "// You may obtain a copy of the License at\n",
              "//\n",
              "//      http://www.apache.org/licenses/LICENSE-2.0\n",
              "//\n",
              "// Unless required by applicable law or agreed to in writing, software\n",
              "// distributed under the License is distributed on an \"AS IS\" BASIS,\n",
              "// WITHOUT WARRANTIES OR CONDITIONS OF ANY KIND, either express or implied.\n",
              "// See the License for the specific language governing permissions and\n",
              "// limitations under the License.\n",
              "\n",
              "/**\n",
              " * @fileoverview Helpers for google.colab Python module.\n",
              " */\n",
              "(function(scope) {\n",
              "function span(text, styleAttributes = {}) {\n",
              "  const element = document.createElement('span');\n",
              "  element.textContent = text;\n",
              "  for (const key of Object.keys(styleAttributes)) {\n",
              "    element.style[key] = styleAttributes[key];\n",
              "  }\n",
              "  return element;\n",
              "}\n",
              "\n",
              "// Max number of bytes which will be uploaded at a time.\n",
              "const MAX_PAYLOAD_SIZE = 100 * 1024;\n",
              "\n",
              "function _uploadFiles(inputId, outputId) {\n",
              "  const steps = uploadFilesStep(inputId, outputId);\n",
              "  const outputElement = document.getElementById(outputId);\n",
              "  // Cache steps on the outputElement to make it available for the next call\n",
              "  // to uploadFilesContinue from Python.\n",
              "  outputElement.steps = steps;\n",
              "\n",
              "  return _uploadFilesContinue(outputId);\n",
              "}\n",
              "\n",
              "// This is roughly an async generator (not supported in the browser yet),\n",
              "// where there are multiple asynchronous steps and the Python side is going\n",
              "// to poll for completion of each step.\n",
              "// This uses a Promise to block the python side on completion of each step,\n",
              "// then passes the result of the previous step as the input to the next step.\n",
              "function _uploadFilesContinue(outputId) {\n",
              "  const outputElement = document.getElementById(outputId);\n",
              "  const steps = outputElement.steps;\n",
              "\n",
              "  const next = steps.next(outputElement.lastPromiseValue);\n",
              "  return Promise.resolve(next.value.promise).then((value) => {\n",
              "    // Cache the last promise value to make it available to the next\n",
              "    // step of the generator.\n",
              "    outputElement.lastPromiseValue = value;\n",
              "    return next.value.response;\n",
              "  });\n",
              "}\n",
              "\n",
              "/**\n",
              " * Generator function which is called between each async step of the upload\n",
              " * process.\n",
              " * @param {string} inputId Element ID of the input file picker element.\n",
              " * @param {string} outputId Element ID of the output display.\n",
              " * @return {!Iterable<!Object>} Iterable of next steps.\n",
              " */\n",
              "function* uploadFilesStep(inputId, outputId) {\n",
              "  const inputElement = document.getElementById(inputId);\n",
              "  inputElement.disabled = false;\n",
              "\n",
              "  const outputElement = document.getElementById(outputId);\n",
              "  outputElement.innerHTML = '';\n",
              "\n",
              "  const pickedPromise = new Promise((resolve) => {\n",
              "    inputElement.addEventListener('change', (e) => {\n",
              "      resolve(e.target.files);\n",
              "    });\n",
              "  });\n",
              "\n",
              "  const cancel = document.createElement('button');\n",
              "  inputElement.parentElement.appendChild(cancel);\n",
              "  cancel.textContent = 'Cancel upload';\n",
              "  const cancelPromise = new Promise((resolve) => {\n",
              "    cancel.onclick = () => {\n",
              "      resolve(null);\n",
              "    };\n",
              "  });\n",
              "\n",
              "  // Wait for the user to pick the files.\n",
              "  const files = yield {\n",
              "    promise: Promise.race([pickedPromise, cancelPromise]),\n",
              "    response: {\n",
              "      action: 'starting',\n",
              "    }\n",
              "  };\n",
              "\n",
              "  cancel.remove();\n",
              "\n",
              "  // Disable the input element since further picks are not allowed.\n",
              "  inputElement.disabled = true;\n",
              "\n",
              "  if (!files) {\n",
              "    return {\n",
              "      response: {\n",
              "        action: 'complete',\n",
              "      }\n",
              "    };\n",
              "  }\n",
              "\n",
              "  for (const file of files) {\n",
              "    const li = document.createElement('li');\n",
              "    li.append(span(file.name, {fontWeight: 'bold'}));\n",
              "    li.append(span(\n",
              "        `(${file.type || 'n/a'}) - ${file.size} bytes, ` +\n",
              "        `last modified: ${\n",
              "            file.lastModifiedDate ? file.lastModifiedDate.toLocaleDateString() :\n",
              "                                    'n/a'} - `));\n",
              "    const percent = span('0% done');\n",
              "    li.appendChild(percent);\n",
              "\n",
              "    outputElement.appendChild(li);\n",
              "\n",
              "    const fileDataPromise = new Promise((resolve) => {\n",
              "      const reader = new FileReader();\n",
              "      reader.onload = (e) => {\n",
              "        resolve(e.target.result);\n",
              "      };\n",
              "      reader.readAsArrayBuffer(file);\n",
              "    });\n",
              "    // Wait for the data to be ready.\n",
              "    let fileData = yield {\n",
              "      promise: fileDataPromise,\n",
              "      response: {\n",
              "        action: 'continue',\n",
              "      }\n",
              "    };\n",
              "\n",
              "    // Use a chunked sending to avoid message size limits. See b/62115660.\n",
              "    let position = 0;\n",
              "    do {\n",
              "      const length = Math.min(fileData.byteLength - position, MAX_PAYLOAD_SIZE);\n",
              "      const chunk = new Uint8Array(fileData, position, length);\n",
              "      position += length;\n",
              "\n",
              "      const base64 = btoa(String.fromCharCode.apply(null, chunk));\n",
              "      yield {\n",
              "        response: {\n",
              "          action: 'append',\n",
              "          file: file.name,\n",
              "          data: base64,\n",
              "        },\n",
              "      };\n",
              "\n",
              "      let percentDone = fileData.byteLength === 0 ?\n",
              "          100 :\n",
              "          Math.round((position / fileData.byteLength) * 100);\n",
              "      percent.textContent = `${percentDone}% done`;\n",
              "\n",
              "    } while (position < fileData.byteLength);\n",
              "  }\n",
              "\n",
              "  // All done.\n",
              "  yield {\n",
              "    response: {\n",
              "      action: 'complete',\n",
              "    }\n",
              "  };\n",
              "}\n",
              "\n",
              "scope.google = scope.google || {};\n",
              "scope.google.colab = scope.google.colab || {};\n",
              "scope.google.colab._files = {\n",
              "  _uploadFiles,\n",
              "  _uploadFilesContinue,\n",
              "};\n",
              "})(self);\n",
              "</script> "
            ]
          },
          "metadata": {}
        },
        {
          "output_type": "stream",
          "name": "stdout",
          "text": [
            "Saving Q28917209_wd0.jpg to Q28917209_wd0.jpg\n"
          ]
        }
      ]
    },
    {
      "cell_type": "code",
      "source": [
        "image_path = 'Q28917209_wd0.jpg'\n",
        "result = classifier.predict(image_path)\n",
        "from pprint import pprint\n",
        "pprint(result)\n",
        "# ghalat"
      ],
      "metadata": {
        "colab": {
          "base_uri": "https://localhost:8080/"
        },
        "id": "vhIM2JPxhIIP",
        "outputId": "f0883628-98cd-4d05-fb26-c80bb6336021"
      },
      "execution_count": 52,
      "outputs": [
        {
          "output_type": "stream",
          "name": "stdout",
          "text": [
            "{'building_type': 'Church',\n",
            " 'confidence': 0.4655817449092865,\n",
            " 'predicted_class': 'church_baroque',\n",
            " 'top3_classes': ['church_baroque', 'church_modern', 'church_gothic'],\n",
            " 'top3_probabilities': array([0.46558174, 0.25227585, 0.19068852], dtype=float32)}\n"
          ]
        }
      ]
    },
    {
      "cell_type": "code",
      "source": [
        "from google.colab import files\n",
        "uploaded = files.upload()\n",
        "\n"
      ],
      "metadata": {
        "colab": {
          "base_uri": "https://localhost:8080/",
          "height": 71
        },
        "id": "MfzyWmDQhexm",
        "outputId": "2ea25c0b-9847-475d-c6e6-6a6d10bb2cf0"
      },
      "execution_count": 53,
      "outputs": [
        {
          "output_type": "display_data",
          "data": {
            "text/plain": [
              "<IPython.core.display.HTML object>"
            ],
            "text/html": [
              "\n",
              "     <input type=\"file\" id=\"files-6022eb0b-0c5d-4eb7-9a2c-57e9aac75cd5\" name=\"files[]\" multiple disabled\n",
              "        style=\"border:none\" />\n",
              "     <output id=\"result-6022eb0b-0c5d-4eb7-9a2c-57e9aac75cd5\">\n",
              "      Upload widget is only available when the cell has been executed in the\n",
              "      current browser session. Please rerun this cell to enable.\n",
              "      </output>\n",
              "      <script>// Copyright 2017 Google LLC\n",
              "//\n",
              "// Licensed under the Apache License, Version 2.0 (the \"License\");\n",
              "// you may not use this file except in compliance with the License.\n",
              "// You may obtain a copy of the License at\n",
              "//\n",
              "//      http://www.apache.org/licenses/LICENSE-2.0\n",
              "//\n",
              "// Unless required by applicable law or agreed to in writing, software\n",
              "// distributed under the License is distributed on an \"AS IS\" BASIS,\n",
              "// WITHOUT WARRANTIES OR CONDITIONS OF ANY KIND, either express or implied.\n",
              "// See the License for the specific language governing permissions and\n",
              "// limitations under the License.\n",
              "\n",
              "/**\n",
              " * @fileoverview Helpers for google.colab Python module.\n",
              " */\n",
              "(function(scope) {\n",
              "function span(text, styleAttributes = {}) {\n",
              "  const element = document.createElement('span');\n",
              "  element.textContent = text;\n",
              "  for (const key of Object.keys(styleAttributes)) {\n",
              "    element.style[key] = styleAttributes[key];\n",
              "  }\n",
              "  return element;\n",
              "}\n",
              "\n",
              "// Max number of bytes which will be uploaded at a time.\n",
              "const MAX_PAYLOAD_SIZE = 100 * 1024;\n",
              "\n",
              "function _uploadFiles(inputId, outputId) {\n",
              "  const steps = uploadFilesStep(inputId, outputId);\n",
              "  const outputElement = document.getElementById(outputId);\n",
              "  // Cache steps on the outputElement to make it available for the next call\n",
              "  // to uploadFilesContinue from Python.\n",
              "  outputElement.steps = steps;\n",
              "\n",
              "  return _uploadFilesContinue(outputId);\n",
              "}\n",
              "\n",
              "// This is roughly an async generator (not supported in the browser yet),\n",
              "// where there are multiple asynchronous steps and the Python side is going\n",
              "// to poll for completion of each step.\n",
              "// This uses a Promise to block the python side on completion of each step,\n",
              "// then passes the result of the previous step as the input to the next step.\n",
              "function _uploadFilesContinue(outputId) {\n",
              "  const outputElement = document.getElementById(outputId);\n",
              "  const steps = outputElement.steps;\n",
              "\n",
              "  const next = steps.next(outputElement.lastPromiseValue);\n",
              "  return Promise.resolve(next.value.promise).then((value) => {\n",
              "    // Cache the last promise value to make it available to the next\n",
              "    // step of the generator.\n",
              "    outputElement.lastPromiseValue = value;\n",
              "    return next.value.response;\n",
              "  });\n",
              "}\n",
              "\n",
              "/**\n",
              " * Generator function which is called between each async step of the upload\n",
              " * process.\n",
              " * @param {string} inputId Element ID of the input file picker element.\n",
              " * @param {string} outputId Element ID of the output display.\n",
              " * @return {!Iterable<!Object>} Iterable of next steps.\n",
              " */\n",
              "function* uploadFilesStep(inputId, outputId) {\n",
              "  const inputElement = document.getElementById(inputId);\n",
              "  inputElement.disabled = false;\n",
              "\n",
              "  const outputElement = document.getElementById(outputId);\n",
              "  outputElement.innerHTML = '';\n",
              "\n",
              "  const pickedPromise = new Promise((resolve) => {\n",
              "    inputElement.addEventListener('change', (e) => {\n",
              "      resolve(e.target.files);\n",
              "    });\n",
              "  });\n",
              "\n",
              "  const cancel = document.createElement('button');\n",
              "  inputElement.parentElement.appendChild(cancel);\n",
              "  cancel.textContent = 'Cancel upload';\n",
              "  const cancelPromise = new Promise((resolve) => {\n",
              "    cancel.onclick = () => {\n",
              "      resolve(null);\n",
              "    };\n",
              "  });\n",
              "\n",
              "  // Wait for the user to pick the files.\n",
              "  const files = yield {\n",
              "    promise: Promise.race([pickedPromise, cancelPromise]),\n",
              "    response: {\n",
              "      action: 'starting',\n",
              "    }\n",
              "  };\n",
              "\n",
              "  cancel.remove();\n",
              "\n",
              "  // Disable the input element since further picks are not allowed.\n",
              "  inputElement.disabled = true;\n",
              "\n",
              "  if (!files) {\n",
              "    return {\n",
              "      response: {\n",
              "        action: 'complete',\n",
              "      }\n",
              "    };\n",
              "  }\n",
              "\n",
              "  for (const file of files) {\n",
              "    const li = document.createElement('li');\n",
              "    li.append(span(file.name, {fontWeight: 'bold'}));\n",
              "    li.append(span(\n",
              "        `(${file.type || 'n/a'}) - ${file.size} bytes, ` +\n",
              "        `last modified: ${\n",
              "            file.lastModifiedDate ? file.lastModifiedDate.toLocaleDateString() :\n",
              "                                    'n/a'} - `));\n",
              "    const percent = span('0% done');\n",
              "    li.appendChild(percent);\n",
              "\n",
              "    outputElement.appendChild(li);\n",
              "\n",
              "    const fileDataPromise = new Promise((resolve) => {\n",
              "      const reader = new FileReader();\n",
              "      reader.onload = (e) => {\n",
              "        resolve(e.target.result);\n",
              "      };\n",
              "      reader.readAsArrayBuffer(file);\n",
              "    });\n",
              "    // Wait for the data to be ready.\n",
              "    let fileData = yield {\n",
              "      promise: fileDataPromise,\n",
              "      response: {\n",
              "        action: 'continue',\n",
              "      }\n",
              "    };\n",
              "\n",
              "    // Use a chunked sending to avoid message size limits. See b/62115660.\n",
              "    let position = 0;\n",
              "    do {\n",
              "      const length = Math.min(fileData.byteLength - position, MAX_PAYLOAD_SIZE);\n",
              "      const chunk = new Uint8Array(fileData, position, length);\n",
              "      position += length;\n",
              "\n",
              "      const base64 = btoa(String.fromCharCode.apply(null, chunk));\n",
              "      yield {\n",
              "        response: {\n",
              "          action: 'append',\n",
              "          file: file.name,\n",
              "          data: base64,\n",
              "        },\n",
              "      };\n",
              "\n",
              "      let percentDone = fileData.byteLength === 0 ?\n",
              "          100 :\n",
              "          Math.round((position / fileData.byteLength) * 100);\n",
              "      percent.textContent = `${percentDone}% done`;\n",
              "\n",
              "    } while (position < fileData.byteLength);\n",
              "  }\n",
              "\n",
              "  // All done.\n",
              "  yield {\n",
              "    response: {\n",
              "      action: 'complete',\n",
              "    }\n",
              "  };\n",
              "}\n",
              "\n",
              "scope.google = scope.google || {};\n",
              "scope.google.colab = scope.google.colab || {};\n",
              "scope.google.colab._files = {\n",
              "  _uploadFiles,\n",
              "  _uploadFilesContinue,\n",
              "};\n",
              "})(self);\n",
              "</script> "
            ]
          },
          "metadata": {}
        },
        {
          "output_type": "stream",
          "name": "stdout",
          "text": [
            "Saving Q5949_wd0.jpg to Q5949_wd0.jpg\n"
          ]
        }
      ]
    },
    {
      "cell_type": "code",
      "source": [
        "image_path = 'Q5949_wd0.jpg'\n",
        "result = classifier.predict(image_path)\n",
        "from pprint import pprint\n",
        "pprint(result)\n",
        "# mazbout"
      ],
      "metadata": {
        "colab": {
          "base_uri": "https://localhost:8080/"
        },
        "id": "vkFHCp1dhfje",
        "outputId": "c801419d-bf57-441d-f748-6f4b7c5fe500"
      },
      "execution_count": 54,
      "outputs": [
        {
          "output_type": "stream",
          "name": "stdout",
          "text": [
            "{'building_type': 'Church',\n",
            " 'confidence': 0.9992850422859192,\n",
            " 'predicted_class': 'church_gothic',\n",
            " 'top3_classes': ['church_gothic', 'church_baroque', 'church_romanesque'],\n",
            " 'top3_probabilities': array([9.9928504e-01, 7.0484774e-04, 6.3841831e-06], dtype=float32)}\n"
          ]
        }
      ]
    }
  ]
}